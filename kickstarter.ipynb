{
 "cells": [
  {
   "cell_type": "markdown",
   "metadata": {},
   "source": [
    "# Kickstarter\n",
    "## 線形回帰\n",
    "実際のデータを使って線形回帰を行う"
   ]
  },
  {
   "cell_type": "code",
   "execution_count": 47,
   "metadata": {},
   "outputs": [],
   "source": [
    "# 必要なライブラリの読み込み\n",
    "%matplotlib inline\n",
    "import pandas as pd\n",
    "import numpy as np\n",
    "import matplotlib.pyplot as plt\n",
    "import seaborn as sns\n",
    "import graphviz\n",
    "import pydotplus\n",
    "from mpl_toolkits.mplot3d import Axes3D\n",
    "from heatmap import corrplot\n",
    "from pylab import rcParams\n",
    "import math\n",
    "\n",
    "from sklearn.linear_model import LogisticRegression\n",
    "from sklearn.svm import SVC\n",
    "from sklearn.model_selection import train_test_split, KFold, RandomizedSearchCV, GridSearchCV\n",
    "from sklearn import metrics\n",
    "from sklearn.metrics import confusion_matrix, accuracy_score, precision_score, recall_score, f1_score\n",
    "from sklearn.metrics import mean_squared_error, mean_absolute_error\n",
    "from sklearn.preprocessing import StandardScaler, MinMaxScaler\n",
    "from sklearn.svm import SVC"
   ]
  },
  {
   "cell_type": "code",
   "execution_count": 55,
   "metadata": {},
   "outputs": [],
   "source": [
    "# データの読み込み\n",
    "df = pd.read_csv(\"ks-projects-201801.csv\")"
   ]
  },
  {
   "cell_type": "code",
   "execution_count": 56,
   "metadata": {},
   "outputs": [
    {
     "name": "stdout",
     "output_type": "stream",
     "text": [
      "(378661, 15)\n",
      "Number of instances: 378661\n"
     ]
    },
    {
     "data": {
      "text/html": [
       "<div>\n",
       "<style scoped>\n",
       "    .dataframe tbody tr th:only-of-type {\n",
       "        vertical-align: middle;\n",
       "    }\n",
       "\n",
       "    .dataframe tbody tr th {\n",
       "        vertical-align: top;\n",
       "    }\n",
       "\n",
       "    .dataframe thead th {\n",
       "        text-align: right;\n",
       "    }\n",
       "</style>\n",
       "<table border=\"1\" class=\"dataframe\">\n",
       "  <thead>\n",
       "    <tr style=\"text-align: right;\">\n",
       "      <th></th>\n",
       "      <th>ID</th>\n",
       "      <th>name</th>\n",
       "      <th>category</th>\n",
       "      <th>main_category</th>\n",
       "      <th>currency</th>\n",
       "      <th>deadline</th>\n",
       "      <th>goal</th>\n",
       "      <th>launched</th>\n",
       "      <th>pledged</th>\n",
       "      <th>state</th>\n",
       "      <th>backers</th>\n",
       "      <th>country</th>\n",
       "      <th>usd pledged</th>\n",
       "      <th>usd_pledged_real</th>\n",
       "      <th>usd_goal_real</th>\n",
       "    </tr>\n",
       "  </thead>\n",
       "  <tbody>\n",
       "    <tr>\n",
       "      <th>0</th>\n",
       "      <td>1000002330</td>\n",
       "      <td>The Songs of Adelaide &amp; Abullah</td>\n",
       "      <td>Poetry</td>\n",
       "      <td>Publishing</td>\n",
       "      <td>GBP</td>\n",
       "      <td>2015-10-09</td>\n",
       "      <td>1000.0</td>\n",
       "      <td>2015-08-11 12:12:28</td>\n",
       "      <td>0.0</td>\n",
       "      <td>failed</td>\n",
       "      <td>0</td>\n",
       "      <td>GB</td>\n",
       "      <td>0.0</td>\n",
       "      <td>0.0</td>\n",
       "      <td>1533.95</td>\n",
       "    </tr>\n",
       "    <tr>\n",
       "      <th>1</th>\n",
       "      <td>1000003930</td>\n",
       "      <td>Greeting From Earth: ZGAC Arts Capsule For ET</td>\n",
       "      <td>Narrative Film</td>\n",
       "      <td>Film &amp; Video</td>\n",
       "      <td>USD</td>\n",
       "      <td>2017-11-01</td>\n",
       "      <td>30000.0</td>\n",
       "      <td>2017-09-02 04:43:57</td>\n",
       "      <td>2421.0</td>\n",
       "      <td>failed</td>\n",
       "      <td>15</td>\n",
       "      <td>US</td>\n",
       "      <td>100.0</td>\n",
       "      <td>2421.0</td>\n",
       "      <td>30000.00</td>\n",
       "    </tr>\n",
       "    <tr>\n",
       "      <th>2</th>\n",
       "      <td>1000004038</td>\n",
       "      <td>Where is Hank?</td>\n",
       "      <td>Narrative Film</td>\n",
       "      <td>Film &amp; Video</td>\n",
       "      <td>USD</td>\n",
       "      <td>2013-02-26</td>\n",
       "      <td>45000.0</td>\n",
       "      <td>2013-01-12 00:20:50</td>\n",
       "      <td>220.0</td>\n",
       "      <td>failed</td>\n",
       "      <td>3</td>\n",
       "      <td>US</td>\n",
       "      <td>220.0</td>\n",
       "      <td>220.0</td>\n",
       "      <td>45000.00</td>\n",
       "    </tr>\n",
       "    <tr>\n",
       "      <th>3</th>\n",
       "      <td>1000007540</td>\n",
       "      <td>ToshiCapital Rekordz Needs Help to Complete Album</td>\n",
       "      <td>Music</td>\n",
       "      <td>Music</td>\n",
       "      <td>USD</td>\n",
       "      <td>2012-04-16</td>\n",
       "      <td>5000.0</td>\n",
       "      <td>2012-03-17 03:24:11</td>\n",
       "      <td>1.0</td>\n",
       "      <td>failed</td>\n",
       "      <td>1</td>\n",
       "      <td>US</td>\n",
       "      <td>1.0</td>\n",
       "      <td>1.0</td>\n",
       "      <td>5000.00</td>\n",
       "    </tr>\n",
       "    <tr>\n",
       "      <th>4</th>\n",
       "      <td>1000011046</td>\n",
       "      <td>Community Film Project: The Art of Neighborhoo...</td>\n",
       "      <td>Film &amp; Video</td>\n",
       "      <td>Film &amp; Video</td>\n",
       "      <td>USD</td>\n",
       "      <td>2015-08-29</td>\n",
       "      <td>19500.0</td>\n",
       "      <td>2015-07-04 08:35:03</td>\n",
       "      <td>1283.0</td>\n",
       "      <td>canceled</td>\n",
       "      <td>14</td>\n",
       "      <td>US</td>\n",
       "      <td>1283.0</td>\n",
       "      <td>1283.0</td>\n",
       "      <td>19500.00</td>\n",
       "    </tr>\n",
       "  </tbody>\n",
       "</table>\n",
       "</div>"
      ],
      "text/plain": [
       "           ID                                               name  \\\n",
       "0  1000002330                    The Songs of Adelaide & Abullah   \n",
       "1  1000003930      Greeting From Earth: ZGAC Arts Capsule For ET   \n",
       "2  1000004038                                     Where is Hank?   \n",
       "3  1000007540  ToshiCapital Rekordz Needs Help to Complete Album   \n",
       "4  1000011046  Community Film Project: The Art of Neighborhoo...   \n",
       "\n",
       "         category main_category currency    deadline     goal  \\\n",
       "0          Poetry    Publishing      GBP  2015-10-09   1000.0   \n",
       "1  Narrative Film  Film & Video      USD  2017-11-01  30000.0   \n",
       "2  Narrative Film  Film & Video      USD  2013-02-26  45000.0   \n",
       "3           Music         Music      USD  2012-04-16   5000.0   \n",
       "4    Film & Video  Film & Video      USD  2015-08-29  19500.0   \n",
       "\n",
       "              launched  pledged     state  backers country  usd pledged  \\\n",
       "0  2015-08-11 12:12:28      0.0    failed        0      GB          0.0   \n",
       "1  2017-09-02 04:43:57   2421.0    failed       15      US        100.0   \n",
       "2  2013-01-12 00:20:50    220.0    failed        3      US        220.0   \n",
       "3  2012-03-17 03:24:11      1.0    failed        1      US          1.0   \n",
       "4  2015-07-04 08:35:03   1283.0  canceled       14      US       1283.0   \n",
       "\n",
       "   usd_pledged_real  usd_goal_real  \n",
       "0               0.0        1533.95  \n",
       "1            2421.0       30000.00  \n",
       "2             220.0       45000.00  \n",
       "3               1.0        5000.00  \n",
       "4            1283.0       19500.00  "
      ]
     },
     "metadata": {},
     "output_type": "display_data"
    }
   ],
   "source": [
    "print(df.shape)\n",
    "print(\"Number of instances:\", df.shape[0])\n",
    "display(df.head(5))"
   ]
  },
  {
   "cell_type": "code",
   "execution_count": 57,
   "metadata": {},
   "outputs": [
    {
     "data": {
      "text/html": [
       "<div>\n",
       "<style scoped>\n",
       "    .dataframe tbody tr th:only-of-type {\n",
       "        vertical-align: middle;\n",
       "    }\n",
       "\n",
       "    .dataframe tbody tr th {\n",
       "        vertical-align: top;\n",
       "    }\n",
       "\n",
       "    .dataframe thead th {\n",
       "        text-align: right;\n",
       "    }\n",
       "</style>\n",
       "<table border=\"1\" class=\"dataframe\">\n",
       "  <thead>\n",
       "    <tr style=\"text-align: right;\">\n",
       "      <th></th>\n",
       "      <th>ID</th>\n",
       "      <th>goal</th>\n",
       "      <th>pledged</th>\n",
       "      <th>backers</th>\n",
       "      <th>usd pledged</th>\n",
       "      <th>usd_pledged_real</th>\n",
       "      <th>usd_goal_real</th>\n",
       "    </tr>\n",
       "  </thead>\n",
       "  <tbody>\n",
       "    <tr>\n",
       "      <th>count</th>\n",
       "      <td>3.786610e+05</td>\n",
       "      <td>3.786610e+05</td>\n",
       "      <td>3.786610e+05</td>\n",
       "      <td>378661.000000</td>\n",
       "      <td>3.748640e+05</td>\n",
       "      <td>3.786610e+05</td>\n",
       "      <td>3.786610e+05</td>\n",
       "    </tr>\n",
       "    <tr>\n",
       "      <th>mean</th>\n",
       "      <td>1.074731e+09</td>\n",
       "      <td>4.908079e+04</td>\n",
       "      <td>9.682979e+03</td>\n",
       "      <td>105.617476</td>\n",
       "      <td>7.036729e+03</td>\n",
       "      <td>9.058924e+03</td>\n",
       "      <td>4.545440e+04</td>\n",
       "    </tr>\n",
       "    <tr>\n",
       "      <th>std</th>\n",
       "      <td>6.190862e+08</td>\n",
       "      <td>1.183391e+06</td>\n",
       "      <td>9.563601e+04</td>\n",
       "      <td>907.185035</td>\n",
       "      <td>7.863975e+04</td>\n",
       "      <td>9.097334e+04</td>\n",
       "      <td>1.152950e+06</td>\n",
       "    </tr>\n",
       "    <tr>\n",
       "      <th>min</th>\n",
       "      <td>5.971000e+03</td>\n",
       "      <td>1.000000e-02</td>\n",
       "      <td>0.000000e+00</td>\n",
       "      <td>0.000000</td>\n",
       "      <td>0.000000e+00</td>\n",
       "      <td>0.000000e+00</td>\n",
       "      <td>1.000000e-02</td>\n",
       "    </tr>\n",
       "    <tr>\n",
       "      <th>25%</th>\n",
       "      <td>5.382635e+08</td>\n",
       "      <td>2.000000e+03</td>\n",
       "      <td>3.000000e+01</td>\n",
       "      <td>2.000000</td>\n",
       "      <td>1.698000e+01</td>\n",
       "      <td>3.100000e+01</td>\n",
       "      <td>2.000000e+03</td>\n",
       "    </tr>\n",
       "    <tr>\n",
       "      <th>50%</th>\n",
       "      <td>1.075276e+09</td>\n",
       "      <td>5.200000e+03</td>\n",
       "      <td>6.200000e+02</td>\n",
       "      <td>12.000000</td>\n",
       "      <td>3.947200e+02</td>\n",
       "      <td>6.243300e+02</td>\n",
       "      <td>5.500000e+03</td>\n",
       "    </tr>\n",
       "    <tr>\n",
       "      <th>75%</th>\n",
       "      <td>1.610149e+09</td>\n",
       "      <td>1.600000e+04</td>\n",
       "      <td>4.076000e+03</td>\n",
       "      <td>56.000000</td>\n",
       "      <td>3.034090e+03</td>\n",
       "      <td>4.050000e+03</td>\n",
       "      <td>1.550000e+04</td>\n",
       "    </tr>\n",
       "    <tr>\n",
       "      <th>max</th>\n",
       "      <td>2.147476e+09</td>\n",
       "      <td>1.000000e+08</td>\n",
       "      <td>2.033899e+07</td>\n",
       "      <td>219382.000000</td>\n",
       "      <td>2.033899e+07</td>\n",
       "      <td>2.033899e+07</td>\n",
       "      <td>1.663614e+08</td>\n",
       "    </tr>\n",
       "  </tbody>\n",
       "</table>\n",
       "</div>"
      ],
      "text/plain": [
       "                 ID          goal       pledged        backers   usd pledged  \\\n",
       "count  3.786610e+05  3.786610e+05  3.786610e+05  378661.000000  3.748640e+05   \n",
       "mean   1.074731e+09  4.908079e+04  9.682979e+03     105.617476  7.036729e+03   \n",
       "std    6.190862e+08  1.183391e+06  9.563601e+04     907.185035  7.863975e+04   \n",
       "min    5.971000e+03  1.000000e-02  0.000000e+00       0.000000  0.000000e+00   \n",
       "25%    5.382635e+08  2.000000e+03  3.000000e+01       2.000000  1.698000e+01   \n",
       "50%    1.075276e+09  5.200000e+03  6.200000e+02      12.000000  3.947200e+02   \n",
       "75%    1.610149e+09  1.600000e+04  4.076000e+03      56.000000  3.034090e+03   \n",
       "max    2.147476e+09  1.000000e+08  2.033899e+07  219382.000000  2.033899e+07   \n",
       "\n",
       "       usd_pledged_real  usd_goal_real  \n",
       "count      3.786610e+05   3.786610e+05  \n",
       "mean       9.058924e+03   4.545440e+04  \n",
       "std        9.097334e+04   1.152950e+06  \n",
       "min        0.000000e+00   1.000000e-02  \n",
       "25%        3.100000e+01   2.000000e+03  \n",
       "50%        6.243300e+02   5.500000e+03  \n",
       "75%        4.050000e+03   1.550000e+04  \n",
       "max        2.033899e+07   1.663614e+08  "
      ]
     },
     "metadata": {},
     "output_type": "display_data"
    },
    {
     "name": "stdout",
     "output_type": "stream",
     "text": [
      "<class 'pandas.core.frame.DataFrame'>\n",
      "RangeIndex: 378661 entries, 0 to 378660\n",
      "Data columns (total 15 columns):\n",
      "ID                  378661 non-null int64\n",
      "name                378657 non-null object\n",
      "category            378661 non-null object\n",
      "main_category       378661 non-null object\n",
      "currency            378661 non-null object\n",
      "deadline            378661 non-null object\n",
      "goal                378661 non-null float64\n",
      "launched            378661 non-null object\n",
      "pledged             378661 non-null float64\n",
      "state               378661 non-null object\n",
      "backers             378661 non-null int64\n",
      "country             378661 non-null object\n",
      "usd pledged         374864 non-null float64\n",
      "usd_pledged_real    378661 non-null float64\n",
      "usd_goal_real       378661 non-null float64\n",
      "dtypes: float64(5), int64(2), object(8)\n",
      "memory usage: 43.3+ MB\n"
     ]
    },
    {
     "data": {
      "text/plain": [
       "None"
      ]
     },
     "metadata": {},
     "output_type": "display_data"
    }
   ],
   "source": [
    "# Get a quick overview of the dataset\n",
    "display(df.describe())\n",
    "display(df.info())"
   ]
  },
  {
   "cell_type": "markdown",
   "metadata": {},
   "source": [
    "##### 予測時点で入手できるデータだけを残す\n",
    "クラウドファンディングが終わるまで入手できない説明変数を含む予測に不適切なコラムをデータフレームから削除"
   ]
  },
  {
   "cell_type": "code",
   "execution_count": 58,
   "metadata": {},
   "outputs": [
    {
     "data": {
      "text/html": [
       "<div>\n",
       "<style scoped>\n",
       "    .dataframe tbody tr th:only-of-type {\n",
       "        vertical-align: middle;\n",
       "    }\n",
       "\n",
       "    .dataframe tbody tr th {\n",
       "        vertical-align: top;\n",
       "    }\n",
       "\n",
       "    .dataframe thead th {\n",
       "        text-align: right;\n",
       "    }\n",
       "</style>\n",
       "<table border=\"1\" class=\"dataframe\">\n",
       "  <thead>\n",
       "    <tr style=\"text-align: right;\">\n",
       "      <th></th>\n",
       "      <th>category</th>\n",
       "      <th>main_category</th>\n",
       "      <th>currency</th>\n",
       "      <th>deadline</th>\n",
       "      <th>goal</th>\n",
       "      <th>launched</th>\n",
       "      <th>state</th>\n",
       "      <th>country</th>\n",
       "    </tr>\n",
       "  </thead>\n",
       "  <tbody>\n",
       "    <tr>\n",
       "      <th>0</th>\n",
       "      <td>Poetry</td>\n",
       "      <td>Publishing</td>\n",
       "      <td>GBP</td>\n",
       "      <td>2015-10-09</td>\n",
       "      <td>1000.0</td>\n",
       "      <td>2015-08-11 12:12:28</td>\n",
       "      <td>failed</td>\n",
       "      <td>GB</td>\n",
       "    </tr>\n",
       "    <tr>\n",
       "      <th>1</th>\n",
       "      <td>Narrative Film</td>\n",
       "      <td>Film &amp; Video</td>\n",
       "      <td>USD</td>\n",
       "      <td>2017-11-01</td>\n",
       "      <td>30000.0</td>\n",
       "      <td>2017-09-02 04:43:57</td>\n",
       "      <td>failed</td>\n",
       "      <td>US</td>\n",
       "    </tr>\n",
       "    <tr>\n",
       "      <th>2</th>\n",
       "      <td>Narrative Film</td>\n",
       "      <td>Film &amp; Video</td>\n",
       "      <td>USD</td>\n",
       "      <td>2013-02-26</td>\n",
       "      <td>45000.0</td>\n",
       "      <td>2013-01-12 00:20:50</td>\n",
       "      <td>failed</td>\n",
       "      <td>US</td>\n",
       "    </tr>\n",
       "    <tr>\n",
       "      <th>3</th>\n",
       "      <td>Music</td>\n",
       "      <td>Music</td>\n",
       "      <td>USD</td>\n",
       "      <td>2012-04-16</td>\n",
       "      <td>5000.0</td>\n",
       "      <td>2012-03-17 03:24:11</td>\n",
       "      <td>failed</td>\n",
       "      <td>US</td>\n",
       "    </tr>\n",
       "    <tr>\n",
       "      <th>4</th>\n",
       "      <td>Film &amp; Video</td>\n",
       "      <td>Film &amp; Video</td>\n",
       "      <td>USD</td>\n",
       "      <td>2015-08-29</td>\n",
       "      <td>19500.0</td>\n",
       "      <td>2015-07-04 08:35:03</td>\n",
       "      <td>canceled</td>\n",
       "      <td>US</td>\n",
       "    </tr>\n",
       "  </tbody>\n",
       "</table>\n",
       "</div>"
      ],
      "text/plain": [
       "         category main_category currency    deadline     goal  \\\n",
       "0          Poetry    Publishing      GBP  2015-10-09   1000.0   \n",
       "1  Narrative Film  Film & Video      USD  2017-11-01  30000.0   \n",
       "2  Narrative Film  Film & Video      USD  2013-02-26  45000.0   \n",
       "3           Music         Music      USD  2012-04-16   5000.0   \n",
       "4    Film & Video  Film & Video      USD  2015-08-29  19500.0   \n",
       "\n",
       "              launched     state country  \n",
       "0  2015-08-11 12:12:28    failed      GB  \n",
       "1  2017-09-02 04:43:57    failed      US  \n",
       "2  2013-01-12 00:20:50    failed      US  \n",
       "3  2012-03-17 03:24:11    failed      US  \n",
       "4  2015-07-04 08:35:03  canceled      US  "
      ]
     },
     "execution_count": 58,
     "metadata": {},
     "output_type": "execute_result"
    }
   ],
   "source": [
    "df = df.drop(['ID', 'name', 'pledged', 'backers', 'usd pledged', 'usd_pledged_real', 'usd_goal_real'], axis=1)\n",
    "df.head(5)"
   ]
  },
  {
   "cell_type": "markdown",
   "metadata": {},
   "source": [
    "\"deadline\"と\"launched\"からクラウドファンディングの日数を計算し、新しく変数として追加"
   ]
  },
  {
   "cell_type": "code",
   "execution_count": 59,
   "metadata": {},
   "outputs": [
    {
     "data": {
      "text/html": [
       "<div>\n",
       "<style scoped>\n",
       "    .dataframe tbody tr th:only-of-type {\n",
       "        vertical-align: middle;\n",
       "    }\n",
       "\n",
       "    .dataframe tbody tr th {\n",
       "        vertical-align: top;\n",
       "    }\n",
       "\n",
       "    .dataframe thead th {\n",
       "        text-align: right;\n",
       "    }\n",
       "</style>\n",
       "<table border=\"1\" class=\"dataframe\">\n",
       "  <thead>\n",
       "    <tr style=\"text-align: right;\">\n",
       "      <th></th>\n",
       "      <th>category</th>\n",
       "      <th>main_category</th>\n",
       "      <th>currency</th>\n",
       "      <th>deadline</th>\n",
       "      <th>goal</th>\n",
       "      <th>launched</th>\n",
       "      <th>state</th>\n",
       "      <th>country</th>\n",
       "      <th>n_days_crowdfunding</th>\n",
       "    </tr>\n",
       "  </thead>\n",
       "  <tbody>\n",
       "    <tr>\n",
       "      <th>0</th>\n",
       "      <td>Poetry</td>\n",
       "      <td>Publishing</td>\n",
       "      <td>GBP</td>\n",
       "      <td>2015-10-09</td>\n",
       "      <td>1000.0</td>\n",
       "      <td>2015-08-11</td>\n",
       "      <td>failed</td>\n",
       "      <td>GB</td>\n",
       "      <td>59</td>\n",
       "    </tr>\n",
       "    <tr>\n",
       "      <th>1</th>\n",
       "      <td>Narrative Film</td>\n",
       "      <td>Film &amp; Video</td>\n",
       "      <td>USD</td>\n",
       "      <td>2017-11-01</td>\n",
       "      <td>30000.0</td>\n",
       "      <td>2017-09-02</td>\n",
       "      <td>failed</td>\n",
       "      <td>US</td>\n",
       "      <td>60</td>\n",
       "    </tr>\n",
       "    <tr>\n",
       "      <th>2</th>\n",
       "      <td>Narrative Film</td>\n",
       "      <td>Film &amp; Video</td>\n",
       "      <td>USD</td>\n",
       "      <td>2013-02-26</td>\n",
       "      <td>45000.0</td>\n",
       "      <td>2013-01-12</td>\n",
       "      <td>failed</td>\n",
       "      <td>US</td>\n",
       "      <td>45</td>\n",
       "    </tr>\n",
       "    <tr>\n",
       "      <th>3</th>\n",
       "      <td>Music</td>\n",
       "      <td>Music</td>\n",
       "      <td>USD</td>\n",
       "      <td>2012-04-16</td>\n",
       "      <td>5000.0</td>\n",
       "      <td>2012-03-17</td>\n",
       "      <td>failed</td>\n",
       "      <td>US</td>\n",
       "      <td>30</td>\n",
       "    </tr>\n",
       "    <tr>\n",
       "      <th>4</th>\n",
       "      <td>Film &amp; Video</td>\n",
       "      <td>Film &amp; Video</td>\n",
       "      <td>USD</td>\n",
       "      <td>2015-08-29</td>\n",
       "      <td>19500.0</td>\n",
       "      <td>2015-07-04</td>\n",
       "      <td>canceled</td>\n",
       "      <td>US</td>\n",
       "      <td>56</td>\n",
       "    </tr>\n",
       "  </tbody>\n",
       "</table>\n",
       "</div>"
      ],
      "text/plain": [
       "         category main_category currency   deadline     goal   launched  \\\n",
       "0          Poetry    Publishing      GBP 2015-10-09   1000.0 2015-08-11   \n",
       "1  Narrative Film  Film & Video      USD 2017-11-01  30000.0 2017-09-02   \n",
       "2  Narrative Film  Film & Video      USD 2013-02-26  45000.0 2013-01-12   \n",
       "3           Music         Music      USD 2012-04-16   5000.0 2012-03-17   \n",
       "4    Film & Video  Film & Video      USD 2015-08-29  19500.0 2015-07-04   \n",
       "\n",
       "      state country  n_days_crowdfunding  \n",
       "0    failed      GB                   59  \n",
       "1    failed      US                   60  \n",
       "2    failed      US                   45  \n",
       "3    failed      US                   30  \n",
       "4  canceled      US                   56  "
      ]
     },
     "execution_count": 59,
     "metadata": {},
     "output_type": "execute_result"
    }
   ],
   "source": [
    "df['launched'] = pd.to_datetime(df['launched']).dt.date\n",
    "df['launched']= pd.to_datetime(df['launched'])\n",
    "df['deadline']= pd.to_datetime(df['deadline'])\n",
    "df['n_days_crowdfunding'] = df['deadline'] - df['launched']\n",
    "df['n_days_crowdfunding'] = df['n_days_crowdfunding'].dt.days\n",
    "#display(df.info())\n",
    "df.head(5)"
   ]
  },
  {
   "cell_type": "code",
   "execution_count": 60,
   "metadata": {},
   "outputs": [
    {
     "data": {
      "text/html": [
       "<div>\n",
       "<style scoped>\n",
       "    .dataframe tbody tr th:only-of-type {\n",
       "        vertical-align: middle;\n",
       "    }\n",
       "\n",
       "    .dataframe tbody tr th {\n",
       "        vertical-align: top;\n",
       "    }\n",
       "\n",
       "    .dataframe thead th {\n",
       "        text-align: right;\n",
       "    }\n",
       "</style>\n",
       "<table border=\"1\" class=\"dataframe\">\n",
       "  <thead>\n",
       "    <tr style=\"text-align: right;\">\n",
       "      <th></th>\n",
       "      <th>category</th>\n",
       "      <th>main_category</th>\n",
       "      <th>currency</th>\n",
       "      <th>goal</th>\n",
       "      <th>state</th>\n",
       "      <th>country</th>\n",
       "      <th>n_days_crowdfunding</th>\n",
       "    </tr>\n",
       "  </thead>\n",
       "  <tbody>\n",
       "    <tr>\n",
       "      <th>0</th>\n",
       "      <td>Poetry</td>\n",
       "      <td>Publishing</td>\n",
       "      <td>GBP</td>\n",
       "      <td>1000.0</td>\n",
       "      <td>failed</td>\n",
       "      <td>GB</td>\n",
       "      <td>59</td>\n",
       "    </tr>\n",
       "    <tr>\n",
       "      <th>1</th>\n",
       "      <td>Narrative Film</td>\n",
       "      <td>Film &amp; Video</td>\n",
       "      <td>USD</td>\n",
       "      <td>30000.0</td>\n",
       "      <td>failed</td>\n",
       "      <td>US</td>\n",
       "      <td>60</td>\n",
       "    </tr>\n",
       "    <tr>\n",
       "      <th>2</th>\n",
       "      <td>Narrative Film</td>\n",
       "      <td>Film &amp; Video</td>\n",
       "      <td>USD</td>\n",
       "      <td>45000.0</td>\n",
       "      <td>failed</td>\n",
       "      <td>US</td>\n",
       "      <td>45</td>\n",
       "    </tr>\n",
       "    <tr>\n",
       "      <th>3</th>\n",
       "      <td>Music</td>\n",
       "      <td>Music</td>\n",
       "      <td>USD</td>\n",
       "      <td>5000.0</td>\n",
       "      <td>failed</td>\n",
       "      <td>US</td>\n",
       "      <td>30</td>\n",
       "    </tr>\n",
       "    <tr>\n",
       "      <th>4</th>\n",
       "      <td>Film &amp; Video</td>\n",
       "      <td>Film &amp; Video</td>\n",
       "      <td>USD</td>\n",
       "      <td>19500.0</td>\n",
       "      <td>canceled</td>\n",
       "      <td>US</td>\n",
       "      <td>56</td>\n",
       "    </tr>\n",
       "  </tbody>\n",
       "</table>\n",
       "</div>"
      ],
      "text/plain": [
       "         category main_category currency     goal     state country  \\\n",
       "0          Poetry    Publishing      GBP   1000.0    failed      GB   \n",
       "1  Narrative Film  Film & Video      USD  30000.0    failed      US   \n",
       "2  Narrative Film  Film & Video      USD  45000.0    failed      US   \n",
       "3           Music         Music      USD   5000.0    failed      US   \n",
       "4    Film & Video  Film & Video      USD  19500.0  canceled      US   \n",
       "\n",
       "   n_days_crowdfunding  \n",
       "0                   59  \n",
       "1                   60  \n",
       "2                   45  \n",
       "3                   30  \n",
       "4                   56  "
      ]
     },
     "execution_count": 60,
     "metadata": {},
     "output_type": "execute_result"
    }
   ],
   "source": [
    "# この時点で\"\"deadline\"と\"launched\"は不要なので、データフレームから落とす\n",
    "df = df.drop(['deadline', 'launched'], axis=1)\n",
    "df.head(5)"
   ]
  },
  {
   "cell_type": "markdown",
   "metadata": {},
   "source": [
    "### 欠損値の確認 / Checking for Missing Values"
   ]
  },
  {
   "cell_type": "code",
   "execution_count": 61,
   "metadata": {},
   "outputs": [
    {
     "data": {
      "text/plain": [
       "category               0\n",
       "main_category          0\n",
       "currency               0\n",
       "goal                   0\n",
       "state                  0\n",
       "country                0\n",
       "n_days_crowdfunding    0\n",
       "dtype: int64"
      ]
     },
     "execution_count": 61,
     "metadata": {},
     "output_type": "execute_result"
    }
   ],
   "source": [
    "df.isna().sum()"
   ]
  },
  {
   "cell_type": "markdown",
   "metadata": {},
   "source": [
    "Observation: There are no missing values in the dataframe to be used for analysis and building models"
   ]
  },
  {
   "cell_type": "markdown",
   "metadata": {},
   "source": [
    "### データの可視化 / Data Visualization"
   ]
  },
  {
   "cell_type": "markdown",
   "metadata": {},
   "source": [
    "#### Plot histogram for each variable where possible"
   ]
  },
  {
   "cell_type": "markdown",
   "metadata": {},
   "source": [
    "##### State (Result of the crowdfuding)"
   ]
  },
  {
   "cell_type": "code",
   "execution_count": 62,
   "metadata": {},
   "outputs": [
    {
     "data": {
      "text/plain": [
       "failed        197719\n",
       "successful    133956\n",
       "canceled       38779\n",
       "undefined       3562\n",
       "live            2799\n",
       "suspended       1846\n",
       "Name: state, dtype: int64"
      ]
     },
     "metadata": {},
     "output_type": "display_data"
    },
    {
     "data": {
      "text/plain": [
       "<matplotlib.axes._subplots.AxesSubplot at 0x254dfe30e80>"
      ]
     },
     "execution_count": 62,
     "metadata": {},
     "output_type": "execute_result"
    },
    {
     "data": {
      "image/png": "[encoded data removed]",
      "text/plain": [
       "<Figure size 432x288 with 1 Axes>"
      ]
     },
     "metadata": {
      "needs_background": "light"
     },
     "output_type": "display_data"
    }
   ],
   "source": [
    "# State\n",
    "display(df['state'].value_counts())\n",
    "# Plot histogram\n",
    "df['state'].value_counts().plot(kind='bar')"
   ]
  },
  {
   "cell_type": "markdown",
   "metadata": {},
   "source": [
    "Since the significant number of projects are either in failed or successful, will only consider the two."
   ]
  },
  {
   "cell_type": "code",
   "execution_count": 63,
   "metadata": {},
   "outputs": [
    {
     "name": "stdout",
     "output_type": "stream",
     "text": [
      "failed        197719\n",
      "successful    133956\n",
      "Name: state, dtype: int64\n"
     ]
    },
    {
     "data": {
      "text/plain": [
       "(331675, 7)"
      ]
     },
     "metadata": {},
     "output_type": "display_data"
    },
    {
     "data": {
      "text/html": [
       "<div>\n",
       "<style scoped>\n",
       "    .dataframe tbody tr th:only-of-type {\n",
       "        vertical-align: middle;\n",
       "    }\n",
       "\n",
       "    .dataframe tbody tr th {\n",
       "        vertical-align: top;\n",
       "    }\n",
       "\n",
       "    .dataframe thead th {\n",
       "        text-align: right;\n",
       "    }\n",
       "</style>\n",
       "<table border=\"1\" class=\"dataframe\">\n",
       "  <thead>\n",
       "    <tr style=\"text-align: right;\">\n",
       "      <th></th>\n",
       "      <th>category</th>\n",
       "      <th>main_category</th>\n",
       "      <th>currency</th>\n",
       "      <th>goal</th>\n",
       "      <th>state</th>\n",
       "      <th>country</th>\n",
       "      <th>n_days_crowdfunding</th>\n",
       "    </tr>\n",
       "  </thead>\n",
       "  <tbody>\n",
       "    <tr>\n",
       "      <th>0</th>\n",
       "      <td>Poetry</td>\n",
       "      <td>Publishing</td>\n",
       "      <td>GBP</td>\n",
       "      <td>1000.0</td>\n",
       "      <td>failed</td>\n",
       "      <td>GB</td>\n",
       "      <td>59</td>\n",
       "    </tr>\n",
       "    <tr>\n",
       "      <th>1</th>\n",
       "      <td>Narrative Film</td>\n",
       "      <td>Film &amp; Video</td>\n",
       "      <td>USD</td>\n",
       "      <td>30000.0</td>\n",
       "      <td>failed</td>\n",
       "      <td>US</td>\n",
       "      <td>60</td>\n",
       "    </tr>\n",
       "    <tr>\n",
       "      <th>2</th>\n",
       "      <td>Narrative Film</td>\n",
       "      <td>Film &amp; Video</td>\n",
       "      <td>USD</td>\n",
       "      <td>45000.0</td>\n",
       "      <td>failed</td>\n",
       "      <td>US</td>\n",
       "      <td>45</td>\n",
       "    </tr>\n",
       "    <tr>\n",
       "      <th>3</th>\n",
       "      <td>Music</td>\n",
       "      <td>Music</td>\n",
       "      <td>USD</td>\n",
       "      <td>5000.0</td>\n",
       "      <td>failed</td>\n",
       "      <td>US</td>\n",
       "      <td>30</td>\n",
       "    </tr>\n",
       "    <tr>\n",
       "      <th>5</th>\n",
       "      <td>Restaurants</td>\n",
       "      <td>Food</td>\n",
       "      <td>USD</td>\n",
       "      <td>50000.0</td>\n",
       "      <td>successful</td>\n",
       "      <td>US</td>\n",
       "      <td>35</td>\n",
       "    </tr>\n",
       "  </tbody>\n",
       "</table>\n",
       "</div>"
      ],
      "text/plain": [
       "         category main_category currency     goal       state country  \\\n",
       "0          Poetry    Publishing      GBP   1000.0      failed      GB   \n",
       "1  Narrative Film  Film & Video      USD  30000.0      failed      US   \n",
       "2  Narrative Film  Film & Video      USD  45000.0      failed      US   \n",
       "3           Music         Music      USD   5000.0      failed      US   \n",
       "5     Restaurants          Food      USD  50000.0  successful      US   \n",
       "\n",
       "   n_days_crowdfunding  \n",
       "0                   59  \n",
       "1                   60  \n",
       "2                   45  \n",
       "3                   30  \n",
       "5                   35  "
      ]
     },
     "execution_count": 63,
     "metadata": {},
     "output_type": "execute_result"
    }
   ],
   "source": [
    "# Drop instances that neither \"failed\" or was \"successful\"\n",
    "df = df[~df.state.str.contains(\"canceled\")]\n",
    "df = df[~df.state.str.contains(\"undefined\")]\n",
    "df = df[~df.state.str.contains(\"live\")]\n",
    "df = df[~df.state.str.contains(\"suspended\")]\n",
    "print(df['state'].value_counts())\n",
    "display(df.shape)\n",
    "df.head(5)"
   ]
  },
  {
   "cell_type": "markdown",
   "metadata": {},
   "source": [
    "Now, the problem has become a binary classification task."
   ]
  },
  {
   "cell_type": "markdown",
   "metadata": {},
   "source": [
    "##### Category\n",
    "Note that the xlabels in the histogram is too small, but will consider it ignorable. If one wanted to know the ordering, it can be determined from value_counts and ordering where needed."
   ]
  },
  {
   "cell_type": "code",
   "execution_count": 64,
   "metadata": {},
   "outputs": [
    {
     "data": {
      "text/plain": [
       "Product Design       18680\n",
       "Documentary          14523\n",
       "Music                12633\n",
       "Tabletop Games       11744\n",
       "Shorts               11394\n",
       "Food                 10416\n",
       "Video Games           9328\n",
       "Film & Video          8624\n",
       "Fiction               8108\n",
       "Fashion               7529\n",
       "Art                   7486\n",
       "Nonfiction            7414\n",
       "Theater               6684\n",
       "Rock                  6246\n",
       "Children's Books      6198\n",
       "Apparel               6166\n",
       "Technology            5726\n",
       "Indie Rock            5329\n",
       "Apps                  5287\n",
       "Photography           5246\n",
       "Webseries             5148\n",
       "Publishing            5052\n",
       "Narrative Film        4618\n",
       "Comics                4581\n",
       "Web                   4309\n",
       "Country & Folk        4213\n",
       "Crafts                4152\n",
       "Design                3547\n",
       "Hip-Hop               3459\n",
       "Hardware              3115\n",
       "                     ...  \n",
       "Blues                  234\n",
       "Animals                229\n",
       "Couture                227\n",
       "Fabrication Tools      215\n",
       "Makerspaces            208\n",
       "Movie Theaters         201\n",
       "Puzzles                200\n",
       "Printing               195\n",
       "Stationery             190\n",
       "Bacon                  181\n",
       "Video Art              174\n",
       "Photo                  169\n",
       "Knitting               164\n",
       "Romance                163\n",
       "Crochet                151\n",
       "Workshops              148\n",
       "Translations           137\n",
       "Glass                  122\n",
       "Latin                  121\n",
       "Pet Fashion            119\n",
       "Embroidery             100\n",
       "Typography              97\n",
       "Pottery                 88\n",
       "Weaving                 82\n",
       "Quilts                  75\n",
       "Residencies             68\n",
       "Letterpress             46\n",
       "Chiptune                33\n",
       "Literary Spaces         19\n",
       "Taxidermy               10\n",
       "Name: category, Length: 159, dtype: int64"
      ]
     },
     "metadata": {},
     "output_type": "display_data"
    },
    {
     "data": {
      "text/plain": [
       "<matplotlib.axes._subplots.AxesSubplot at 0x254e0be6f28>"
      ]
     },
     "execution_count": 64,
     "metadata": {},
     "output_type": "execute_result"
    },
    {
     "data": {
      "image/png": "[encoded data removed]",
      "text/plain": [
       "<Figure size 432x288 with 1 Axes>"
      ]
     },
     "metadata": {
      "needs_background": "light"
     },
     "output_type": "display_data"
    }
   ],
   "source": [
    "display(df['category'].value_counts())\n",
    "plt.xticks(fontsize=4)\n",
    "df['category'].value_counts().plot(kind='bar')"
   ]
  },
  {
   "cell_type": "markdown",
   "metadata": {},
   "source": [
    "##### Main Category"
   ]
  },
  {
   "cell_type": "code",
   "execution_count": 65,
   "metadata": {},
   "outputs": [
    {
     "data": {
      "text/plain": [
       "Film & Video    56527\n",
       "Music           45949\n",
       "Publishing      35445\n",
       "Games           28521\n",
       "Technology      27050\n",
       "Art             25641\n",
       "Design          25364\n",
       "Food            22054\n",
       "Fashion         19775\n",
       "Theater         10242\n",
       "Comics           9878\n",
       "Photography      9689\n",
       "Crafts           7818\n",
       "Journalism       4149\n",
       "Dance            3573\n",
       "Name: main_category, dtype: int64"
      ]
     },
     "metadata": {},
     "output_type": "display_data"
    },
    {
     "data": {
      "text/plain": [
       "<matplotlib.axes._subplots.AxesSubplot at 0x254d9105a20>"
      ]
     },
     "execution_count": 65,
     "metadata": {},
     "output_type": "execute_result"
    },
    {
     "data": {
      "image/png": "[encoded data removed]",
      "text/plain": [
       "<Figure size 432x288 with 1 Axes>"
      ]
     },
     "metadata": {
      "needs_background": "light"
     },
     "output_type": "display_data"
    }
   ],
   "source": [
    "# Main category\n",
    "display(df['main_category'].value_counts())\n",
    "df['main_category'].value_counts().plot(kind='bar')"
   ]
  },
  {
   "cell_type": "markdown",
   "metadata": {},
   "source": [
    "##### Currency"
   ]
  },
  {
   "cell_type": "code",
   "execution_count": 66,
   "metadata": {},
   "outputs": [
    {
     "data": {
      "text/plain": [
       "USD    261511\n",
       "GBP     29476\n",
       "EUR     14378\n",
       "CAD     12375\n",
       "AUD      6621\n",
       "SEK      1510\n",
       "MXN      1411\n",
       "NZD      1274\n",
       "DKK       929\n",
       "CHF       652\n",
       "NOK       584\n",
       "HKD       477\n",
       "SGD       454\n",
       "JPY        23\n",
       "Name: currency, dtype: int64"
      ]
     },
     "metadata": {},
     "output_type": "display_data"
    },
    {
     "data": {
      "text/plain": [
       "<matplotlib.axes._subplots.AxesSubplot at 0x254d94d03c8>"
      ]
     },
     "execution_count": 66,
     "metadata": {},
     "output_type": "execute_result"
    },
    {
     "data": {
      "image/png": "[encoded data removed]",
      "text/plain": [
       "<Figure size 432x288 with 1 Axes>"
      ]
     },
     "metadata": {
      "needs_background": "light"
     },
     "output_type": "display_data"
    }
   ],
   "source": [
    "display(df['currency'].value_counts())\n",
    "df['currency'].value_counts().plot(kind='bar')"
   ]
  },
  {
   "cell_type": "code",
   "execution_count": 67,
   "metadata": {},
   "outputs": [
    {
     "data": {
      "text/plain": [
       "0.7884555664430541"
      ]
     },
     "execution_count": 67,
     "metadata": {},
     "output_type": "execute_result"
    }
   ],
   "source": [
    "261511 / df.shape[0]"
   ]
  },
  {
   "cell_type": "markdown",
   "metadata": {},
   "source": [
    "Observation: 78.8% of the data is done in USD."
   ]
  },
  {
   "cell_type": "code",
   "execution_count": 68,
   "metadata": {},
   "outputs": [
    {
     "data": {
      "text/plain": [
       "0.9779482927564634"
      ]
     },
     "execution_count": 68,
     "metadata": {},
     "output_type": "execute_result"
    }
   ],
   "source": [
    "(261511 + 29476 + 14378 + 12375 + 6621) / df.shape[0]"
   ]
  },
  {
   "cell_type": "markdown",
   "metadata": {},
   "source": [
    "Observation: Over 97% of the data is in USD, GBP, EUR, CAD, or AUD. \n",
    "- Delete everything else."
   ]
  },
  {
   "cell_type": "code",
   "execution_count": 69,
   "metadata": {},
   "outputs": [
    {
     "data": {
      "text/plain": [
       "(331675, 7)"
      ]
     },
     "metadata": {},
     "output_type": "display_data"
    },
    {
     "data": {
      "text/plain": [
       "(324361, 7)"
      ]
     },
     "metadata": {},
     "output_type": "display_data"
    },
    {
     "data": {
      "text/html": [
       "<div>\n",
       "<style scoped>\n",
       "    .dataframe tbody tr th:only-of-type {\n",
       "        vertical-align: middle;\n",
       "    }\n",
       "\n",
       "    .dataframe tbody tr th {\n",
       "        vertical-align: top;\n",
       "    }\n",
       "\n",
       "    .dataframe thead th {\n",
       "        text-align: right;\n",
       "    }\n",
       "</style>\n",
       "<table border=\"1\" class=\"dataframe\">\n",
       "  <thead>\n",
       "    <tr style=\"text-align: right;\">\n",
       "      <th></th>\n",
       "      <th>category</th>\n",
       "      <th>main_category</th>\n",
       "      <th>currency</th>\n",
       "      <th>goal</th>\n",
       "      <th>state</th>\n",
       "      <th>country</th>\n",
       "      <th>n_days_crowdfunding</th>\n",
       "    </tr>\n",
       "  </thead>\n",
       "  <tbody>\n",
       "    <tr>\n",
       "      <th>0</th>\n",
       "      <td>Poetry</td>\n",
       "      <td>Publishing</td>\n",
       "      <td>GBP</td>\n",
       "      <td>1000.0</td>\n",
       "      <td>failed</td>\n",
       "      <td>GB</td>\n",
       "      <td>59</td>\n",
       "    </tr>\n",
       "    <tr>\n",
       "      <th>1</th>\n",
       "      <td>Narrative Film</td>\n",
       "      <td>Film &amp; Video</td>\n",
       "      <td>USD</td>\n",
       "      <td>30000.0</td>\n",
       "      <td>failed</td>\n",
       "      <td>US</td>\n",
       "      <td>60</td>\n",
       "    </tr>\n",
       "    <tr>\n",
       "      <th>2</th>\n",
       "      <td>Narrative Film</td>\n",
       "      <td>Film &amp; Video</td>\n",
       "      <td>USD</td>\n",
       "      <td>45000.0</td>\n",
       "      <td>failed</td>\n",
       "      <td>US</td>\n",
       "      <td>45</td>\n",
       "    </tr>\n",
       "    <tr>\n",
       "      <th>3</th>\n",
       "      <td>Music</td>\n",
       "      <td>Music</td>\n",
       "      <td>USD</td>\n",
       "      <td>5000.0</td>\n",
       "      <td>failed</td>\n",
       "      <td>US</td>\n",
       "      <td>30</td>\n",
       "    </tr>\n",
       "    <tr>\n",
       "      <th>5</th>\n",
       "      <td>Restaurants</td>\n",
       "      <td>Food</td>\n",
       "      <td>USD</td>\n",
       "      <td>50000.0</td>\n",
       "      <td>successful</td>\n",
       "      <td>US</td>\n",
       "      <td>35</td>\n",
       "    </tr>\n",
       "  </tbody>\n",
       "</table>\n",
       "</div>"
      ],
      "text/plain": [
       "         category main_category currency     goal       state country  \\\n",
       "0          Poetry    Publishing      GBP   1000.0      failed      GB   \n",
       "1  Narrative Film  Film & Video      USD  30000.0      failed      US   \n",
       "2  Narrative Film  Film & Video      USD  45000.0      failed      US   \n",
       "3           Music         Music      USD   5000.0      failed      US   \n",
       "5     Restaurants          Food      USD  50000.0  successful      US   \n",
       "\n",
       "   n_days_crowdfunding  \n",
       "0                   59  \n",
       "1                   60  \n",
       "2                   45  \n",
       "3                   30  \n",
       "5                   35  "
      ]
     },
     "execution_count": 69,
     "metadata": {},
     "output_type": "execute_result"
    }
   ],
   "source": [
    "# Drop instances that except for the top 5 currencies\n",
    "display(df.shape)\n",
    "to_drop = ['SEK', 'MXN', 'NZD', 'DKK', 'CHF', 'NOK', 'HKD', 'SGD', 'JPY']\n",
    "df = df[~df['currency'].isin(to_drop)]\n",
    "display(df.shape)\n",
    "df.head(5)"
   ]
  },
  {
   "cell_type": "markdown",
   "metadata": {},
   "source": [
    "##### Goal"
   ]
  },
  {
   "cell_type": "code",
   "execution_count": 70,
   "metadata": {},
   "outputs": [
    {
     "data": {
      "text/plain": [
       "count    3.243610e+05\n",
       "mean     4.039433e+04\n",
       "std      1.061090e+06\n",
       "min      1.000000e-02\n",
       "25%      2.000000e+03\n",
       "50%      5.000000e+03\n",
       "75%      1.500000e+04\n",
       "max      1.000000e+08\n",
       "Name: goal, dtype: float64"
      ]
     },
     "metadata": {},
     "output_type": "display_data"
    },
    {
     "data": {
      "text/plain": [
       "array([[<matplotlib.axes._subplots.AxesSubplot object at 0x00000254D94B96D8>]],\n",
       "      dtype=object)"
      ]
     },
     "metadata": {},
     "output_type": "display_data"
    },
    {
     "data": {
      "text/plain": [
       "array([[<matplotlib.axes._subplots.AxesSubplot object at 0x00000254D9560128>]],\n",
       "      dtype=object)"
      ]
     },
     "metadata": {},
     "output_type": "display_data"
    },
    {
     "data": {
      "text/plain": [
       "array([[<matplotlib.axes._subplots.AxesSubplot object at 0x00000254D95ADAC8>]],\n",
       "      dtype=object)"
      ]
     },
     "execution_count": 70,
     "metadata": {},
     "output_type": "execute_result"
    },
    {
     "data": {
      "image/png": "[encoded data removed]",
      "text/plain": [
       "<Figure size 432x288 with 1 Axes>"
      ]
     },
     "metadata": {
      "needs_background": "light"
     },
     "output_type": "display_data"
    },
    {
     "data": {
      "image/png": "[encoded data removed]",
      "text/plain": [
       "<Figure size 432x288 with 1 Axes>"
      ]
     },
     "metadata": {
      "needs_background": "light"
     },
     "output_type": "display_data"
    },
    {
     "data": {
      "image/png": "[encoded data removed]",
      "text/plain": [
       "<Figure size 432x288 with 1 Axes>"
      ]
     },
     "metadata": {
      "needs_background": "light"
     },
     "output_type": "display_data"
    }
   ],
   "source": [
    "display(df['goal'].describe())\n",
    "display(df.hist(column='goal'))\n",
    "display(df.hist(column='goal', bins=50))\n",
    "df.hist(column='goal', bins=100)"
   ]
  },
  {
   "cell_type": "markdown",
   "metadata": {},
   "source": [
    "#### Country"
   ]
  },
  {
   "cell_type": "code",
   "execution_count": 71,
   "metadata": {},
   "outputs": [
    {
     "data": {
      "text/plain": [
       "US      261360\n",
       "GB       29454\n",
       "CA       12370\n",
       "AU        6616\n",
       "DE        3436\n",
       "FR        2520\n",
       "NL        2411\n",
       "IT        2369\n",
       "ES        1873\n",
       "IE         683\n",
       "BE         523\n",
       "AT         485\n",
       "N,0\"       204\n",
       "LU          57\n",
       "Name: country, dtype: int64"
      ]
     },
     "metadata": {},
     "output_type": "display_data"
    },
    {
     "data": {
      "text/plain": [
       "<matplotlib.axes._subplots.AxesSubplot at 0x254d94bfdd8>"
      ]
     },
     "execution_count": 71,
     "metadata": {},
     "output_type": "execute_result"
    },
    {
     "data": {
      "image/png": "[encoded data removed]",
      "text/plain": [
       "<Figure size 432x288 with 1 Axes>"
      ]
     },
     "metadata": {
      "needs_background": "light"
     },
     "output_type": "display_data"
    }
   ],
   "source": [
    "display(df['country'].value_counts())\n",
    "df['country'].value_counts().plot(kind='bar')"
   ]
  },
  {
   "cell_type": "markdown",
   "metadata": {},
   "source": [
    "##### Number of days given for the crowdfunding project"
   ]
  },
  {
   "cell_type": "code",
   "execution_count": 72,
   "metadata": {},
   "outputs": [
    {
     "data": {
      "text/plain": [
       "array([[<matplotlib.axes._subplots.AxesSubplot object at 0x00000254DA11FF98>]],\n",
       "      dtype=object)"
      ]
     },
     "metadata": {},
     "output_type": "display_data"
    },
    {
     "data": {
      "image/png": "[encoded data removed]",
      "text/plain": [
       "<Figure size 432x288 with 1 Axes>"
      ]
     },
     "metadata": {
      "needs_background": "light"
     },
     "output_type": "display_data"
    }
   ],
   "source": [
    "display(df.hist(column='n_days_crowdfunding'))"
   ]
  },
  {
   "cell_type": "markdown",
   "metadata": {},
   "source": [
    "### Plot a variable against crowdfunding result\n",
    "Category, main category, currency, country"
   ]
  },
  {
   "cell_type": "markdown",
   "metadata": {},
   "source": [
    "#### Category vs State(Result)\n",
    "Will not do because there are too many categories"
   ]
  },
  {
   "cell_type": "markdown",
   "metadata": {},
   "source": [
    "#### Main Category vs State(Result)"
   ]
  },
  {
   "cell_type": "code",
   "execution_count": 73,
   "metadata": {},
   "outputs": [
    {
     "data": {
      "text/html": [
       "<div>\n",
       "<style scoped>\n",
       "    .dataframe tbody tr th:only-of-type {\n",
       "        vertical-align: middle;\n",
       "    }\n",
       "\n",
       "    .dataframe tbody tr th {\n",
       "        vertical-align: top;\n",
       "    }\n",
       "\n",
       "    .dataframe thead th {\n",
       "        text-align: right;\n",
       "    }\n",
       "</style>\n",
       "<table border=\"1\" class=\"dataframe\">\n",
       "  <thead>\n",
       "    <tr style=\"text-align: right;\">\n",
       "      <th>main_category</th>\n",
       "      <th>Art</th>\n",
       "      <th>Comics</th>\n",
       "      <th>Crafts</th>\n",
       "      <th>Dance</th>\n",
       "      <th>Design</th>\n",
       "      <th>Fashion</th>\n",
       "      <th>Film &amp; Video</th>\n",
       "      <th>Food</th>\n",
       "      <th>Games</th>\n",
       "      <th>Journalism</th>\n",
       "      <th>Music</th>\n",
       "      <th>Photography</th>\n",
       "      <th>Publishing</th>\n",
       "      <th>Technology</th>\n",
       "      <th>Theater</th>\n",
       "      <th>All</th>\n",
       "    </tr>\n",
       "    <tr>\n",
       "      <th>state</th>\n",
       "      <th></th>\n",
       "      <th></th>\n",
       "      <th></th>\n",
       "      <th></th>\n",
       "      <th></th>\n",
       "      <th></th>\n",
       "      <th></th>\n",
       "      <th></th>\n",
       "      <th></th>\n",
       "      <th></th>\n",
       "      <th></th>\n",
       "      <th></th>\n",
       "      <th></th>\n",
       "      <th></th>\n",
       "      <th></th>\n",
       "      <th></th>\n",
       "    </tr>\n",
       "  </thead>\n",
       "  <tbody>\n",
       "    <tr>\n",
       "      <th>failed</th>\n",
       "      <td>13804</td>\n",
       "      <td>3986</td>\n",
       "      <td>5534</td>\n",
       "      <td>1208</td>\n",
       "      <td>14295</td>\n",
       "      <td>13803</td>\n",
       "      <td>32387</td>\n",
       "      <td>15622</td>\n",
       "      <td>15523</td>\n",
       "      <td>3037</td>\n",
       "      <td>21345</td>\n",
       "      <td>6265</td>\n",
       "      <td>22678</td>\n",
       "      <td>19743</td>\n",
       "      <td>3641</td>\n",
       "      <td>192871</td>\n",
       "    </tr>\n",
       "    <tr>\n",
       "      <th>successful</th>\n",
       "      <td>11314</td>\n",
       "      <td>5779</td>\n",
       "      <td>2068</td>\n",
       "      <td>2318</td>\n",
       "      <td>10113</td>\n",
       "      <td>5436</td>\n",
       "      <td>23293</td>\n",
       "      <td>5997</td>\n",
       "      <td>12219</td>\n",
       "      <td>978</td>\n",
       "      <td>23963</td>\n",
       "      <td>3263</td>\n",
       "      <td>12076</td>\n",
       "      <td>6207</td>\n",
       "      <td>6466</td>\n",
       "      <td>131490</td>\n",
       "    </tr>\n",
       "    <tr>\n",
       "      <th>All</th>\n",
       "      <td>25118</td>\n",
       "      <td>9765</td>\n",
       "      <td>7602</td>\n",
       "      <td>3526</td>\n",
       "      <td>24408</td>\n",
       "      <td>19239</td>\n",
       "      <td>55680</td>\n",
       "      <td>21619</td>\n",
       "      <td>27742</td>\n",
       "      <td>4015</td>\n",
       "      <td>45308</td>\n",
       "      <td>9528</td>\n",
       "      <td>34754</td>\n",
       "      <td>25950</td>\n",
       "      <td>10107</td>\n",
       "      <td>324361</td>\n",
       "    </tr>\n",
       "  </tbody>\n",
       "</table>\n",
       "</div>"
      ],
      "text/plain": [
       "main_category    Art  Comics  Crafts  Dance  Design  Fashion  Film & Video  \\\n",
       "state                                                                        \n",
       "failed         13804    3986    5534   1208   14295    13803         32387   \n",
       "successful     11314    5779    2068   2318   10113     5436         23293   \n",
       "All            25118    9765    7602   3526   24408    19239         55680   \n",
       "\n",
       "main_category   Food  Games  Journalism  Music  Photography  Publishing  \\\n",
       "state                                                                     \n",
       "failed         15622  15523        3037  21345         6265       22678   \n",
       "successful      5997  12219         978  23963         3263       12076   \n",
       "All            21619  27742        4015  45308         9528       34754   \n",
       "\n",
       "main_category  Technology  Theater     All  \n",
       "state                                       \n",
       "failed              19743     3641  192871  \n",
       "successful           6207     6466  131490  \n",
       "All                 25950    10107  324361  "
      ]
     },
     "metadata": {},
     "output_type": "display_data"
    },
    {
     "data": {
      "text/plain": [
       "[Text(0, 0, 'Publishing'),\n",
       " Text(0, 0, 'Film & Video'),\n",
       " Text(0, 0, 'Music'),\n",
       " Text(0, 0, 'Food'),\n",
       " Text(0, 0, 'Crafts'),\n",
       " Text(0, 0, 'Games'),\n",
       " Text(0, 0, 'Design'),\n",
       " Text(0, 0, 'Comics'),\n",
       " Text(0, 0, 'Fashion'),\n",
       " Text(0, 0, 'Theater'),\n",
       " Text(0, 0, 'Art'),\n",
       " Text(0, 0, 'Photography'),\n",
       " Text(0, 0, 'Technology'),\n",
       " Text(0, 0, 'Dance'),\n",
       " Text(0, 0, 'Journalism')]"
      ]
     },
     "execution_count": 73,
     "metadata": {},
     "output_type": "execute_result"
    },
    {
     "data": {
      "image/png": "[encoded data removed]",
      "text/plain": [
       "<Figure size 432x288 with 1 Axes>"
      ]
     },
     "metadata": {
      "needs_background": "light"
     },
     "output_type": "display_data"
    }
   ],
   "source": [
    "# Main category\n",
    "df_h = pd.crosstab(index=df[\"state\"], columns=df[\"main_category\"], margins=True)\n",
    "display(df_h)\n",
    "h = sns.countplot(x=\"main_category\", hue=\"state\", hue_order=[\"successful\", \"failed\"], data=df)\n",
    "h.set_xticklabels(h.get_xticklabels(), rotation=60)"
   ]
  },
  {
   "cell_type": "markdown",
   "metadata": {},
   "source": [
    "Observations\n",
    "- Publishing, Food, Crafts, Fshion, Art, Photography, Technology, and Journalism have at least double the fail rate than success rate."
   ]
  },
  {
   "cell_type": "markdown",
   "metadata": {},
   "source": [
    "#### Currency vs State(Result)"
   ]
  },
  {
   "cell_type": "code",
   "execution_count": 74,
   "metadata": {},
   "outputs": [
    {
     "data": {
      "text/html": [
       "<div>\n",
       "<style scoped>\n",
       "    .dataframe tbody tr th:only-of-type {\n",
       "        vertical-align: middle;\n",
       "    }\n",
       "\n",
       "    .dataframe tbody tr th {\n",
       "        vertical-align: top;\n",
       "    }\n",
       "\n",
       "    .dataframe thead th {\n",
       "        text-align: right;\n",
       "    }\n",
       "</style>\n",
       "<table border=\"1\" class=\"dataframe\">\n",
       "  <thead>\n",
       "    <tr style=\"text-align: right;\">\n",
       "      <th>currency</th>\n",
       "      <th>AUD</th>\n",
       "      <th>CAD</th>\n",
       "      <th>EUR</th>\n",
       "      <th>GBP</th>\n",
       "      <th>USD</th>\n",
       "      <th>All</th>\n",
       "    </tr>\n",
       "    <tr>\n",
       "      <th>state</th>\n",
       "      <th></th>\n",
       "      <th></th>\n",
       "      <th></th>\n",
       "      <th></th>\n",
       "      <th></th>\n",
       "      <th></th>\n",
       "    </tr>\n",
       "  </thead>\n",
       "  <tbody>\n",
       "    <tr>\n",
       "      <th>failed</th>\n",
       "      <td>4610</td>\n",
       "      <td>8238</td>\n",
       "      <td>10496</td>\n",
       "      <td>17395</td>\n",
       "      <td>152132</td>\n",
       "      <td>192871</td>\n",
       "    </tr>\n",
       "    <tr>\n",
       "      <th>successful</th>\n",
       "      <td>2011</td>\n",
       "      <td>4137</td>\n",
       "      <td>3882</td>\n",
       "      <td>12081</td>\n",
       "      <td>109379</td>\n",
       "      <td>131490</td>\n",
       "    </tr>\n",
       "    <tr>\n",
       "      <th>All</th>\n",
       "      <td>6621</td>\n",
       "      <td>12375</td>\n",
       "      <td>14378</td>\n",
       "      <td>29476</td>\n",
       "      <td>261511</td>\n",
       "      <td>324361</td>\n",
       "    </tr>\n",
       "  </tbody>\n",
       "</table>\n",
       "</div>"
      ],
      "text/plain": [
       "currency     AUD    CAD    EUR    GBP     USD     All\n",
       "state                                                \n",
       "failed      4610   8238  10496  17395  152132  192871\n",
       "successful  2011   4137   3882  12081  109379  131490\n",
       "All         6621  12375  14378  29476  261511  324361"
      ]
     },
     "metadata": {},
     "output_type": "display_data"
    },
    {
     "data": {
      "text/plain": [
       "[Text(0, 0, 'GBP'),\n",
       " Text(0, 0, 'USD'),\n",
       " Text(0, 0, 'CAD'),\n",
       " Text(0, 0, 'AUD'),\n",
       " Text(0, 0, 'EUR')]"
      ]
     },
     "execution_count": 74,
     "metadata": {},
     "output_type": "execute_result"
    },
    {
     "data": {
      "image/png": "[encoded data removed]",
      "text/plain": [
       "<Figure size 432x288 with 1 Axes>"
      ]
     },
     "metadata": {
      "needs_background": "light"
     },
     "output_type": "display_data"
    }
   ],
   "source": [
    "df_c = pd.crosstab(index=df[\"state\"], columns=df[\"currency\"], margins=True)\n",
    "display(df_c)\n",
    "c = sns.countplot(x=\"currency\", hue=\"state\", hue_order=[\"successful\", \"failed\"], data=df)\n",
    "c.set_xticklabels(c.get_xticklabels(), rotation=60)"
   ]
  },
  {
   "cell_type": "markdown",
   "metadata": {},
   "source": [
    "Observations\n",
    "- Fundraising done in Euro seems to have an exceptionally high failure rate compared to other currency\n",
    "- There are fluctuations in the rate of success depending on the currency"
   ]
  },
  {
   "cell_type": "code",
   "execution_count": 75,
   "metadata": {},
   "outputs": [
    {
     "data": {
      "text/plain": [
       "count    324361.000000\n",
       "mean         33.958232\n",
       "std          12.732551\n",
       "min           1.000000\n",
       "25%          30.000000\n",
       "50%          30.000000\n",
       "75%          36.000000\n",
       "max          92.000000\n",
       "Name: n_days_crowdfunding, dtype: float64"
      ]
     },
     "execution_count": 75,
     "metadata": {},
     "output_type": "execute_result"
    },
    {
     "data": {
      "image/png": "[encoded data removed]",
      "text/plain": [
       "<Figure size 432x288 with 1 Axes>"
      ]
     },
     "metadata": {
      "needs_background": "light"
     },
     "output_type": "display_data"
    }
   ],
   "source": [
    "success = df[df[\"state\"] == \"successful\"]\n",
    "fail = df[df[\"state\"] == \"failed\"]\n",
    "\n",
    "success[\"n_days_crowdfunding\"].hist(color=\"blue\", alpha=.5)\n",
    "fail[\"n_days_crowdfunding\"].hist(color=\"orange\", alpha=.5)\n",
    "\n",
    "#plt.hist(df['n_days_crowdfunding'])\n",
    "df['n_days_crowdfunding'].describe()"
   ]
  },
  {
   "cell_type": "markdown",
   "metadata": {},
   "source": [
    "Observations\n",
    "- Most crowdfunding events is in the range 30-40\n",
    "- Distribution of number of days of the crowdfunding seems somewhat similar between the succeeded and failed projects, though not entirely the same.\n",
    "- Surprisingly, it even seems that successful project have shorter number of days for the fundraising."
   ]
  },
  {
   "cell_type": "markdown",
   "metadata": {},
   "source": [
    "#### Look at correlation\n",
    "Create a heatmap"
   ]
  },
  {
   "cell_type": "code",
   "execution_count": 76,
   "metadata": {},
   "outputs": [
    {
     "data": {
      "text/html": [
       "<div>\n",
       "<style scoped>\n",
       "    .dataframe tbody tr th:only-of-type {\n",
       "        vertical-align: middle;\n",
       "    }\n",
       "\n",
       "    .dataframe tbody tr th {\n",
       "        vertical-align: top;\n",
       "    }\n",
       "\n",
       "    .dataframe thead th {\n",
       "        text-align: right;\n",
       "    }\n",
       "</style>\n",
       "<table border=\"1\" class=\"dataframe\">\n",
       "  <thead>\n",
       "    <tr style=\"text-align: right;\">\n",
       "      <th></th>\n",
       "      <th>category</th>\n",
       "      <th>main_category</th>\n",
       "      <th>currency</th>\n",
       "      <th>goal</th>\n",
       "      <th>state</th>\n",
       "      <th>country</th>\n",
       "      <th>n_days_crowdfunding</th>\n",
       "    </tr>\n",
       "  </thead>\n",
       "  <tbody>\n",
       "    <tr>\n",
       "      <th>0</th>\n",
       "      <td>Poetry</td>\n",
       "      <td>12</td>\n",
       "      <td>3</td>\n",
       "      <td>1000.0</td>\n",
       "      <td>0</td>\n",
       "      <td>7</td>\n",
       "      <td>59</td>\n",
       "    </tr>\n",
       "    <tr>\n",
       "      <th>1</th>\n",
       "      <td>Narrative Film</td>\n",
       "      <td>6</td>\n",
       "      <td>4</td>\n",
       "      <td>30000.0</td>\n",
       "      <td>0</td>\n",
       "      <td>13</td>\n",
       "      <td>60</td>\n",
       "    </tr>\n",
       "    <tr>\n",
       "      <th>2</th>\n",
       "      <td>Narrative Film</td>\n",
       "      <td>6</td>\n",
       "      <td>4</td>\n",
       "      <td>45000.0</td>\n",
       "      <td>0</td>\n",
       "      <td>13</td>\n",
       "      <td>45</td>\n",
       "    </tr>\n",
       "    <tr>\n",
       "      <th>3</th>\n",
       "      <td>Music</td>\n",
       "      <td>10</td>\n",
       "      <td>4</td>\n",
       "      <td>5000.0</td>\n",
       "      <td>0</td>\n",
       "      <td>13</td>\n",
       "      <td>30</td>\n",
       "    </tr>\n",
       "    <tr>\n",
       "      <th>5</th>\n",
       "      <td>Restaurants</td>\n",
       "      <td>7</td>\n",
       "      <td>4</td>\n",
       "      <td>50000.0</td>\n",
       "      <td>1</td>\n",
       "      <td>13</td>\n",
       "      <td>35</td>\n",
       "    </tr>\n",
       "  </tbody>\n",
       "</table>\n",
       "</div>"
      ],
      "text/plain": [
       "         category  main_category  currency     goal  state  country  \\\n",
       "0          Poetry             12         3   1000.0      0        7   \n",
       "1  Narrative Film              6         4  30000.0      0       13   \n",
       "2  Narrative Film              6         4  45000.0      0       13   \n",
       "3           Music             10         4   5000.0      0       13   \n",
       "5     Restaurants              7         4  50000.0      1       13   \n",
       "\n",
       "   n_days_crowdfunding  \n",
       "0                   59  \n",
       "1                   60  \n",
       "2                   45  \n",
       "3                   30  \n",
       "5                   35  "
      ]
     },
     "execution_count": 76,
     "metadata": {},
     "output_type": "execute_result"
    }
   ],
   "source": [
    "df['main_category'] =df['main_category'].astype('category').cat.codes\n",
    "df['currency'] =df['currency'].astype('category').cat.codes\n",
    "df['state'] =df['state'].astype('category').cat.codes\n",
    "df['country'] =df['country'].astype('category').cat.codes\n",
    "df.head(5)"
   ]
  },
  {
   "cell_type": "code",
   "execution_count": 77,
   "metadata": {},
   "outputs": [
    {
     "data": {
      "text/html": [
       "<div>\n",
       "<style scoped>\n",
       "    .dataframe tbody tr th:only-of-type {\n",
       "        vertical-align: middle;\n",
       "    }\n",
       "\n",
       "    .dataframe tbody tr th {\n",
       "        vertical-align: top;\n",
       "    }\n",
       "\n",
       "    .dataframe thead th {\n",
       "        text-align: right;\n",
       "    }\n",
       "</style>\n",
       "<table border=\"1\" class=\"dataframe\">\n",
       "  <thead>\n",
       "    <tr style=\"text-align: right;\">\n",
       "      <th></th>\n",
       "      <th>state</th>\n",
       "      <th>category</th>\n",
       "      <th>main_category</th>\n",
       "      <th>currency</th>\n",
       "      <th>goal</th>\n",
       "      <th>country</th>\n",
       "      <th>n_days_crowdfunding</th>\n",
       "    </tr>\n",
       "  </thead>\n",
       "  <tbody>\n",
       "    <tr>\n",
       "      <th>0</th>\n",
       "      <td>0</td>\n",
       "      <td>Poetry</td>\n",
       "      <td>12</td>\n",
       "      <td>3</td>\n",
       "      <td>1000.0</td>\n",
       "      <td>7</td>\n",
       "      <td>59</td>\n",
       "    </tr>\n",
       "    <tr>\n",
       "      <th>1</th>\n",
       "      <td>0</td>\n",
       "      <td>Narrative Film</td>\n",
       "      <td>6</td>\n",
       "      <td>4</td>\n",
       "      <td>30000.0</td>\n",
       "      <td>13</td>\n",
       "      <td>60</td>\n",
       "    </tr>\n",
       "    <tr>\n",
       "      <th>2</th>\n",
       "      <td>0</td>\n",
       "      <td>Narrative Film</td>\n",
       "      <td>6</td>\n",
       "      <td>4</td>\n",
       "      <td>45000.0</td>\n",
       "      <td>13</td>\n",
       "      <td>45</td>\n",
       "    </tr>\n",
       "    <tr>\n",
       "      <th>3</th>\n",
       "      <td>0</td>\n",
       "      <td>Music</td>\n",
       "      <td>10</td>\n",
       "      <td>4</td>\n",
       "      <td>5000.0</td>\n",
       "      <td>13</td>\n",
       "      <td>30</td>\n",
       "    </tr>\n",
       "    <tr>\n",
       "      <th>5</th>\n",
       "      <td>1</td>\n",
       "      <td>Restaurants</td>\n",
       "      <td>7</td>\n",
       "      <td>4</td>\n",
       "      <td>50000.0</td>\n",
       "      <td>13</td>\n",
       "      <td>35</td>\n",
       "    </tr>\n",
       "  </tbody>\n",
       "</table>\n",
       "</div>"
      ],
      "text/plain": [
       "   state        category  main_category  currency     goal  country  \\\n",
       "0      0          Poetry             12         3   1000.0        7   \n",
       "1      0  Narrative Film              6         4  30000.0       13   \n",
       "2      0  Narrative Film              6         4  45000.0       13   \n",
       "3      0           Music             10         4   5000.0       13   \n",
       "5      1     Restaurants              7         4  50000.0       13   \n",
       "\n",
       "   n_days_crowdfunding  \n",
       "0                   59  \n",
       "1                   60  \n",
       "2                   45  \n",
       "3                   30  \n",
       "5                   35  "
      ]
     },
     "execution_count": 77,
     "metadata": {},
     "output_type": "execute_result"
    }
   ],
   "source": [
    "#Reorganize the columns order for a later step\n",
    "col_name = \"state\"\n",
    "first_col = df.pop(col_name)\n",
    "df.insert(0, col_name, first_col)\n",
    "df.head(5)"
   ]
  },
  {
   "cell_type": "code",
   "execution_count": 78,
   "metadata": {},
   "outputs": [
    {
     "name": "stdout",
     "output_type": "stream",
     "text": [
      "Correlation Matrix\n"
     ]
    },
    {
     "data": {
      "text/plain": [
       "<matplotlib.axes._subplots.AxesSubplot at 0x254d94b14a8>"
      ]
     },
     "execution_count": 78,
     "metadata": {},
     "output_type": "execute_result"
    },
    {
     "data": {
      "image/png": "[encoded data removed]",
      "text/plain": [
       "<Figure size 720x720 with 2 Axes>"
      ]
     },
     "metadata": {
      "needs_background": "light"
     },
     "output_type": "display_data"
    }
   ],
   "source": [
    "print(\"Correlation Matrix\")\n",
    "plt.figure(figsize=(10,10))\n",
    "sns.heatmap(df.corr(), annot=True, cmap='plasma', linewidths=0.5)"
   ]
  },
  {
   "cell_type": "markdown",
   "metadata": {},
   "source": [
    "Observation:\n",
    "- Currency and country are highly correlated which is not surprising. => Will remove one of them: country\n",
    "- When checked against state, n_days_crowdfunding has the strongest value with -0.12\n",
    "- In short, there seems to be no one variable that is clearly related to state i.e. the crowdfunding result"
   ]
  },
  {
   "cell_type": "code",
   "execution_count": 79,
   "metadata": {},
   "outputs": [
    {
     "data": {
      "text/html": [
       "<div>\n",
       "<style scoped>\n",
       "    .dataframe tbody tr th:only-of-type {\n",
       "        vertical-align: middle;\n",
       "    }\n",
       "\n",
       "    .dataframe tbody tr th {\n",
       "        vertical-align: top;\n",
       "    }\n",
       "\n",
       "    .dataframe thead th {\n",
       "        text-align: right;\n",
       "    }\n",
       "</style>\n",
       "<table border=\"1\" class=\"dataframe\">\n",
       "  <thead>\n",
       "    <tr style=\"text-align: right;\">\n",
       "      <th></th>\n",
       "      <th>state</th>\n",
       "      <th>category</th>\n",
       "      <th>main_category</th>\n",
       "      <th>currency</th>\n",
       "      <th>goal</th>\n",
       "      <th>n_days_crowdfunding</th>\n",
       "    </tr>\n",
       "  </thead>\n",
       "  <tbody>\n",
       "    <tr>\n",
       "      <th>0</th>\n",
       "      <td>0</td>\n",
       "      <td>Poetry</td>\n",
       "      <td>12</td>\n",
       "      <td>3</td>\n",
       "      <td>1000.0</td>\n",
       "      <td>59</td>\n",
       "    </tr>\n",
       "    <tr>\n",
       "      <th>1</th>\n",
       "      <td>0</td>\n",
       "      <td>Narrative Film</td>\n",
       "      <td>6</td>\n",
       "      <td>4</td>\n",
       "      <td>30000.0</td>\n",
       "      <td>60</td>\n",
       "    </tr>\n",
       "    <tr>\n",
       "      <th>2</th>\n",
       "      <td>0</td>\n",
       "      <td>Narrative Film</td>\n",
       "      <td>6</td>\n",
       "      <td>4</td>\n",
       "      <td>45000.0</td>\n",
       "      <td>45</td>\n",
       "    </tr>\n",
       "    <tr>\n",
       "      <th>3</th>\n",
       "      <td>0</td>\n",
       "      <td>Music</td>\n",
       "      <td>10</td>\n",
       "      <td>4</td>\n",
       "      <td>5000.0</td>\n",
       "      <td>30</td>\n",
       "    </tr>\n",
       "    <tr>\n",
       "      <th>5</th>\n",
       "      <td>1</td>\n",
       "      <td>Restaurants</td>\n",
       "      <td>7</td>\n",
       "      <td>4</td>\n",
       "      <td>50000.0</td>\n",
       "      <td>35</td>\n",
       "    </tr>\n",
       "  </tbody>\n",
       "</table>\n",
       "</div>"
      ],
      "text/plain": [
       "   state        category  main_category  currency     goal  \\\n",
       "0      0          Poetry             12         3   1000.0   \n",
       "1      0  Narrative Film              6         4  30000.0   \n",
       "2      0  Narrative Film              6         4  45000.0   \n",
       "3      0           Music             10         4   5000.0   \n",
       "5      1     Restaurants              7         4  50000.0   \n",
       "\n",
       "   n_days_crowdfunding  \n",
       "0                   59  \n",
       "1                   60  \n",
       "2                   45  \n",
       "3                   30  \n",
       "5                   35  "
      ]
     },
     "execution_count": 79,
     "metadata": {},
     "output_type": "execute_result"
    }
   ],
   "source": [
    "# Delete country\n",
    "df = df.drop(['country'], axis=1)\n",
    "df.head(5)"
   ]
  },
  {
   "cell_type": "code",
   "execution_count": 80,
   "metadata": {},
   "outputs": [
    {
     "name": "stdout",
     "output_type": "stream",
     "text": [
      "Correlation Matrix\n"
     ]
    },
    {
     "data": {
      "text/plain": [
       "<matplotlib.axes._subplots.AxesSubplot at 0x254da1b2588>"
      ]
     },
     "execution_count": 80,
     "metadata": {},
     "output_type": "execute_result"
    },
    {
     "data": {
      "image/png": "[encoded data removed]",
      "text/plain": [
       "<Figure size 720x720 with 2 Axes>"
      ]
     },
     "metadata": {
      "needs_background": "light"
     },
     "output_type": "display_data"
    }
   ],
   "source": [
    "# Recreate a heatmap without country\n",
    "print(\"Correlation Matrix\")\n",
    "plt.figure(figsize=(10,10))\n",
    "sns.heatmap(df.corr(), annot=True, cmap='plasma', linewidths=0.5)"
   ]
  },
  {
   "cell_type": "code",
   "execution_count": 81,
   "metadata": {},
   "outputs": [
    {
     "data": {
      "text/html": [
       "<div>\n",
       "<style scoped>\n",
       "    .dataframe tbody tr th:only-of-type {\n",
       "        vertical-align: middle;\n",
       "    }\n",
       "\n",
       "    .dataframe tbody tr th {\n",
       "        vertical-align: top;\n",
       "    }\n",
       "\n",
       "    .dataframe thead th {\n",
       "        text-align: right;\n",
       "    }\n",
       "</style>\n",
       "<table border=\"1\" class=\"dataframe\">\n",
       "  <thead>\n",
       "    <tr style=\"text-align: right;\">\n",
       "      <th></th>\n",
       "      <th>main_category</th>\n",
       "      <th>currency</th>\n",
       "      <th>goal</th>\n",
       "      <th>n_days_crowdfunding</th>\n",
       "    </tr>\n",
       "  </thead>\n",
       "  <tbody>\n",
       "    <tr>\n",
       "      <th>0</th>\n",
       "      <td>12</td>\n",
       "      <td>3</td>\n",
       "      <td>1000.0</td>\n",
       "      <td>59</td>\n",
       "    </tr>\n",
       "    <tr>\n",
       "      <th>1</th>\n",
       "      <td>6</td>\n",
       "      <td>4</td>\n",
       "      <td>30000.0</td>\n",
       "      <td>60</td>\n",
       "    </tr>\n",
       "    <tr>\n",
       "      <th>2</th>\n",
       "      <td>6</td>\n",
       "      <td>4</td>\n",
       "      <td>45000.0</td>\n",
       "      <td>45</td>\n",
       "    </tr>\n",
       "    <tr>\n",
       "      <th>3</th>\n",
       "      <td>10</td>\n",
       "      <td>4</td>\n",
       "      <td>5000.0</td>\n",
       "      <td>30</td>\n",
       "    </tr>\n",
       "    <tr>\n",
       "      <th>5</th>\n",
       "      <td>7</td>\n",
       "      <td>4</td>\n",
       "      <td>50000.0</td>\n",
       "      <td>35</td>\n",
       "    </tr>\n",
       "  </tbody>\n",
       "</table>\n",
       "</div>"
      ],
      "text/plain": [
       "   main_category  currency     goal  n_days_crowdfunding\n",
       "0             12         3   1000.0                   59\n",
       "1              6         4  30000.0                   60\n",
       "2              6         4  45000.0                   45\n",
       "3             10         4   5000.0                   30\n",
       "5              7         4  50000.0                   35"
      ]
     },
     "execution_count": 81,
     "metadata": {},
     "output_type": "execute_result"
    }
   ],
   "source": [
    "X = df[['main_category','currency', 'goal', 'n_days_crowdfunding']]\n",
    "X.head(5)"
   ]
  },
  {
   "cell_type": "code",
   "execution_count": 82,
   "metadata": {},
   "outputs": [
    {
     "data": {
      "text/plain": [
       "(324361,)"
      ]
     },
     "metadata": {},
     "output_type": "display_data"
    },
    {
     "data": {
      "text/plain": [
       "0    0\n",
       "1    0\n",
       "2    0\n",
       "3    0\n",
       "5    1\n",
       "dtype: int8"
      ]
     },
     "execution_count": 82,
     "metadata": {},
     "output_type": "execute_result"
    }
   ],
   "source": [
    "df.state = pd.Categorical(df.state)\n",
    "y = df.state.cat.codes\n",
    "display(y.shape)\n",
    "y.head(5)\n",
    "#print(y.value_counts())"
   ]
  },
  {
   "cell_type": "code",
   "execution_count": 83,
   "metadata": {},
   "outputs": [
    {
     "name": "stdout",
     "output_type": "stream",
     "text": [
      "(259488, 4)\n",
      "(64873, 4)\n",
      "(259488,)\n",
      "(64873,)\n",
      "Misclassified samples: 25356\n",
      "Accuracy: 0.61\n"
     ]
    }
   ],
   "source": [
    "# Create a logistic regression model\n",
    "X_train, X_test, y_train, y_test = train_test_split(X, y, test_size=0.2, random_state=101)\n",
    "\n",
    "print(X_train.shape)\n",
    "print(X_test.shape)\n",
    "print(y_train.shape)\n",
    "print(y_test.shape)\n",
    "\n",
    "sc = StandardScaler()\n",
    "sc.fit(X_train)\n",
    "X_train_std = sc.transform(X_train)\n",
    "X_test_std = sc.transform(X_test)\n",
    "\n",
    "model = LogisticRegression(solver='liblinear', multi_class='auto')\n",
    "model.fit(X_train_std, y_train)\n",
    "\n",
    "# Use the model to make predictions\n",
    "y_pred = model.predict(X_test_std)\n",
    "\n",
    "count_misclassified = (y_test != y_pred).sum()\n",
    "print('Misclassified samples: {}'.format(count_misclassified))\n",
    "accuracy = metrics.accuracy_score(y_test, y_pred)\n",
    "print('Accuracy: {:.2f}'.format(accuracy))"
   ]
  },
  {
   "cell_type": "code",
   "execution_count": 84,
   "metadata": {},
   "outputs": [
    {
     "name": "stdout",
     "output_type": "stream",
     "text": [
      "confusion matrix = \n",
      " [[35933  2645]\n",
      " [22711  3584]]\n",
      "accuracy =  0.6091440198541767\n",
      "precision =  0.5940521546571502\n",
      "recall =  0.5338686418354278\n",
      "f1 score =  0.4797929641257526\n"
     ]
    },
    {
     "data": {
      "text/plain": [
       "<matplotlib.axes._subplots.AxesSubplot at 0x254cc2333c8>"
      ]
     },
     "execution_count": 84,
     "metadata": {},
     "output_type": "execute_result"
    },
    {
     "data": {
      "image/png": "[encoded data removed]",
      "text/plain": [
       "<Figure size 432x288 with 2 Axes>"
      ]
     },
     "metadata": {
      "needs_background": "light"
     },
     "output_type": "display_data"
    }
   ],
   "source": [
    "cm = confusion_matrix(y_true=y_test, y_pred=y_pred)\n",
    "print('confusion matrix = \\n', cm)\n",
    "print('accuracy = ', accuracy_score(y_true=y_test, y_pred=y_pred))\n",
    "print('precision = ', precision_score(y_true=y_test, y_pred=y_pred, average='macro'))\n",
    "print('recall = ', recall_score(y_true=y_test, y_pred=y_pred, average='macro'))\n",
    "print('f1 score = ', f1_score(y_true=y_test, y_pred=y_pred, average='macro'))\n",
    "sns.heatmap(cm)"
   ]
  },
  {
   "cell_type": "markdown",
   "metadata": {},
   "source": [
    "##### Reducing the number of instances\n",
    "The number of instances is massive (30K~), which can lead to a long running time. Therefore, will take 10% of the data used above and see if a model with similar accuracy can be produced."
   ]
  },
  {
   "cell_type": "code",
   "execution_count": 85,
   "metadata": {},
   "outputs": [
    {
     "data": {
      "text/plain": [
       "(32436, 5)"
      ]
     },
     "metadata": {},
     "output_type": "display_data"
    },
    {
     "data": {
      "text/html": [
       "<div>\n",
       "<style scoped>\n",
       "    .dataframe tbody tr th:only-of-type {\n",
       "        vertical-align: middle;\n",
       "    }\n",
       "\n",
       "    .dataframe tbody tr th {\n",
       "        vertical-align: top;\n",
       "    }\n",
       "\n",
       "    .dataframe thead th {\n",
       "        text-align: right;\n",
       "    }\n",
       "</style>\n",
       "<table border=\"1\" class=\"dataframe\">\n",
       "  <thead>\n",
       "    <tr style=\"text-align: right;\">\n",
       "      <th></th>\n",
       "      <th>main_category</th>\n",
       "      <th>currency</th>\n",
       "      <th>goal</th>\n",
       "      <th>n_days_crowdfunding</th>\n",
       "      <th>state</th>\n",
       "    </tr>\n",
       "  </thead>\n",
       "  <tbody>\n",
       "    <tr>\n",
       "      <th>173742</th>\n",
       "      <td>6</td>\n",
       "      <td>4</td>\n",
       "      <td>35000.0</td>\n",
       "      <td>30</td>\n",
       "      <td>0</td>\n",
       "    </tr>\n",
       "    <tr>\n",
       "      <th>140090</th>\n",
       "      <td>8</td>\n",
       "      <td>4</td>\n",
       "      <td>100000.0</td>\n",
       "      <td>30</td>\n",
       "      <td>0</td>\n",
       "    </tr>\n",
       "    <tr>\n",
       "      <th>186988</th>\n",
       "      <td>6</td>\n",
       "      <td>4</td>\n",
       "      <td>1500.0</td>\n",
       "      <td>29</td>\n",
       "      <td>1</td>\n",
       "    </tr>\n",
       "    <tr>\n",
       "      <th>142393</th>\n",
       "      <td>12</td>\n",
       "      <td>4</td>\n",
       "      <td>2000.0</td>\n",
       "      <td>30</td>\n",
       "      <td>0</td>\n",
       "    </tr>\n",
       "    <tr>\n",
       "      <th>26386</th>\n",
       "      <td>1</td>\n",
       "      <td>4</td>\n",
       "      <td>500.0</td>\n",
       "      <td>30</td>\n",
       "      <td>1</td>\n",
       "    </tr>\n",
       "  </tbody>\n",
       "</table>\n",
       "</div>"
      ],
      "text/plain": [
       "        main_category  currency      goal  n_days_crowdfunding  state\n",
       "173742              6         4   35000.0                   30      0\n",
       "140090              8         4  100000.0                   30      0\n",
       "186988              6         4    1500.0                   29      1\n",
       "142393             12         4    2000.0                   30      0\n",
       "26386               1         4     500.0                   30      1"
      ]
     },
     "metadata": {},
     "output_type": "display_data"
    },
    {
     "data": {
      "text/html": [
       "<div>\n",
       "<style scoped>\n",
       "    .dataframe tbody tr th:only-of-type {\n",
       "        vertical-align: middle;\n",
       "    }\n",
       "\n",
       "    .dataframe tbody tr th {\n",
       "        vertical-align: top;\n",
       "    }\n",
       "\n",
       "    .dataframe thead th {\n",
       "        text-align: right;\n",
       "    }\n",
       "</style>\n",
       "<table border=\"1\" class=\"dataframe\">\n",
       "  <thead>\n",
       "    <tr style=\"text-align: right;\">\n",
       "      <th></th>\n",
       "      <th>main_category</th>\n",
       "      <th>currency</th>\n",
       "      <th>goal</th>\n",
       "      <th>n_days_crowdfunding</th>\n",
       "      <th>state</th>\n",
       "    </tr>\n",
       "  </thead>\n",
       "  <tbody>\n",
       "    <tr>\n",
       "      <th>0</th>\n",
       "      <td>6</td>\n",
       "      <td>4</td>\n",
       "      <td>35000.0</td>\n",
       "      <td>30</td>\n",
       "      <td>0</td>\n",
       "    </tr>\n",
       "    <tr>\n",
       "      <th>1</th>\n",
       "      <td>8</td>\n",
       "      <td>4</td>\n",
       "      <td>100000.0</td>\n",
       "      <td>30</td>\n",
       "      <td>0</td>\n",
       "    </tr>\n",
       "    <tr>\n",
       "      <th>2</th>\n",
       "      <td>6</td>\n",
       "      <td>4</td>\n",
       "      <td>1500.0</td>\n",
       "      <td>29</td>\n",
       "      <td>1</td>\n",
       "    </tr>\n",
       "    <tr>\n",
       "      <th>3</th>\n",
       "      <td>12</td>\n",
       "      <td>4</td>\n",
       "      <td>2000.0</td>\n",
       "      <td>30</td>\n",
       "      <td>0</td>\n",
       "    </tr>\n",
       "    <tr>\n",
       "      <th>4</th>\n",
       "      <td>1</td>\n",
       "      <td>4</td>\n",
       "      <td>500.0</td>\n",
       "      <td>30</td>\n",
       "      <td>1</td>\n",
       "    </tr>\n",
       "  </tbody>\n",
       "</table>\n",
       "</div>"
      ],
      "text/plain": [
       "   main_category  currency      goal  n_days_crowdfunding  state\n",
       "0              6         4   35000.0                   30      0\n",
       "1              8         4  100000.0                   30      0\n",
       "2              6         4    1500.0                   29      1\n",
       "3             12         4    2000.0                   30      0\n",
       "4              1         4     500.0                   30      1"
      ]
     },
     "metadata": {},
     "output_type": "display_data"
    },
    {
     "data": {
      "text/html": [
       "<div>\n",
       "<style scoped>\n",
       "    .dataframe tbody tr th:only-of-type {\n",
       "        vertical-align: middle;\n",
       "    }\n",
       "\n",
       "    .dataframe tbody tr th {\n",
       "        vertical-align: top;\n",
       "    }\n",
       "\n",
       "    .dataframe thead th {\n",
       "        text-align: right;\n",
       "    }\n",
       "</style>\n",
       "<table border=\"1\" class=\"dataframe\">\n",
       "  <thead>\n",
       "    <tr style=\"text-align: right;\">\n",
       "      <th></th>\n",
       "      <th>main_category</th>\n",
       "      <th>currency</th>\n",
       "      <th>goal</th>\n",
       "      <th>n_days_crowdfunding</th>\n",
       "    </tr>\n",
       "  </thead>\n",
       "  <tbody>\n",
       "    <tr>\n",
       "      <th>0</th>\n",
       "      <td>6</td>\n",
       "      <td>4</td>\n",
       "      <td>35000.0</td>\n",
       "      <td>30</td>\n",
       "    </tr>\n",
       "    <tr>\n",
       "      <th>1</th>\n",
       "      <td>8</td>\n",
       "      <td>4</td>\n",
       "      <td>100000.0</td>\n",
       "      <td>30</td>\n",
       "    </tr>\n",
       "    <tr>\n",
       "      <th>2</th>\n",
       "      <td>6</td>\n",
       "      <td>4</td>\n",
       "      <td>1500.0</td>\n",
       "      <td>29</td>\n",
       "    </tr>\n",
       "    <tr>\n",
       "      <th>3</th>\n",
       "      <td>12</td>\n",
       "      <td>4</td>\n",
       "      <td>2000.0</td>\n",
       "      <td>30</td>\n",
       "    </tr>\n",
       "    <tr>\n",
       "      <th>4</th>\n",
       "      <td>1</td>\n",
       "      <td>4</td>\n",
       "      <td>500.0</td>\n",
       "      <td>30</td>\n",
       "    </tr>\n",
       "  </tbody>\n",
       "</table>\n",
       "</div>"
      ],
      "text/plain": [
       "   main_category  currency      goal  n_days_crowdfunding\n",
       "0              6         4   35000.0                   30\n",
       "1              8         4  100000.0                   30\n",
       "2              6         4    1500.0                   29\n",
       "3             12         4    2000.0                   30\n",
       "4              1         4     500.0                   30"
      ]
     },
     "metadata": {},
     "output_type": "display_data"
    },
    {
     "data": {
      "text/plain": [
       "0    0\n",
       "1    0\n",
       "2    1\n",
       "3    0\n",
       "4    1\n",
       "Name: state, dtype: int8"
      ]
     },
     "metadata": {},
     "output_type": "display_data"
    }
   ],
   "source": [
    "df_merged = pd.concat([X, y], axis=1)\n",
    "df_merged = df_merged.rename(columns = {0:'state'})\n",
    "\n",
    "df_10 = df_merged.sample(frac=0.1)\n",
    "display(df_10.shape)\n",
    "display(df_10.head(5))\n",
    "df_10.reset_index(drop=True, inplace=True)\n",
    "display(df_10.head(5))\n",
    "X_10 = df_10[['main_category','currency', 'goal', 'n_days_crowdfunding']]\n",
    "y_10 = df_10['state']\n",
    "\n",
    "display(X_10.head(5))\n",
    "display(y_10.head(5))"
   ]
  },
  {
   "cell_type": "code",
   "execution_count": 86,
   "metadata": {},
   "outputs": [
    {
     "name": "stdout",
     "output_type": "stream",
     "text": [
      "(25948, 4)\n",
      "(6488, 4)\n",
      "(25948,)\n",
      "(6488,)\n",
      "Misclassified samples: 2607\n",
      "Accuracy: 0.60\n",
      "confusion matrix = \n",
      " [[3592  265]\n",
      " [2342  289]]\n",
      "accuracy =  0.5981812577065352\n",
      "precision =  0.5634929470870307\n",
      "recall =  0.520568958668444\n",
      "f1 score =  0.45760536500137006\n"
     ]
    },
    {
     "data": {
      "text/plain": [
       "<matplotlib.axes._subplots.AxesSubplot at 0x254cc62f5f8>"
      ]
     },
     "execution_count": 86,
     "metadata": {},
     "output_type": "execute_result"
    },
    {
     "data": {
      "image/png": "[encoded data removed]",
      "text/plain": [
       "<Figure size 432x288 with 2 Axes>"
      ]
     },
     "metadata": {
      "needs_background": "light"
     },
     "output_type": "display_data"
    }
   ],
   "source": [
    "# Run the code again with 10% of data\n",
    "X_train, X_test, y_train, y_test = train_test_split(X_10, y_10, test_size=0.2, random_state=101)\n",
    "\n",
    "print(X_train.shape)\n",
    "print(X_test.shape)\n",
    "print(y_train.shape)\n",
    "print(y_test.shape)\n",
    "\n",
    "sc = StandardScaler()\n",
    "sc.fit(X_train)\n",
    "X_train_std = sc.transform(X_train)\n",
    "X_test_std = sc.transform(X_test)\n",
    "\n",
    "model = LogisticRegression(solver='liblinear', multi_class='auto')\n",
    "model.fit(X_train_std, y_train)\n",
    "\n",
    "# Use the model to make predictions\n",
    "y_pred = model.predict(X_test_std)\n",
    "\n",
    "count_misclassified = (y_test != y_pred).sum()\n",
    "print('Misclassified samples: {}'.format(count_misclassified))\n",
    "accuracy = metrics.accuracy_score(y_test, y_pred)\n",
    "print('Accuracy: {:.2f}'.format(accuracy))\n",
    "\n",
    "cm = confusion_matrix(y_true=y_test, y_pred=y_pred)\n",
    "print('confusion matrix = \\n', cm)\n",
    "print('accuracy = ', accuracy_score(y_true=y_test, y_pred=y_pred))\n",
    "print('precision = ', precision_score(y_true=y_test, y_pred=y_pred, average='macro'))\n",
    "print('recall = ', recall_score(y_true=y_test, y_pred=y_pred, average='macro'))\n",
    "print('f1 score = ', f1_score(y_true=y_test, y_pred=y_pred, average='macro'))\n",
    "sns.heatmap(cm)"
   ]
  },
  {
   "cell_type": "markdown",
   "metadata": {},
   "source": [
    "Result: (One of the runs)\n",
    "- Accuracy: 0.609 -> 0.616\n",
    "- Precision: 0.594 -> 0.605\n",
    "- Recall: 0.534 -> 0.532"
   ]
  },
  {
   "cell_type": "markdown",
   "metadata": {},
   "source": [
    "##### Remark:\n",
    "Accuracy, precision, and recall are almost the same. Therefore, to save running time, will use 10% of the data from here on."
   ]
  },
  {
   "cell_type": "markdown",
   "metadata": {},
   "source": [
    "### Cross Validation\n",
    "- Use cross validation.\n",
    "- Repeat the same thing as for Logistic Regression above but using cross validation"
   ]
  },
  {
   "cell_type": "code",
   "execution_count": 87,
   "metadata": {},
   "outputs": [
    {
     "name": "stdout",
     "output_type": "stream",
     "text": [
      "   main_category  currency      goal  n_days_crowdfunding\n",
      "1              8         4  100000.0                   30\n",
      "2              6         4    1500.0                   29\n",
      "4              1         4     500.0                   30\n",
      "5              4         4    7000.0                   36\n",
      "6             10         2    3500.0                   30\n",
      "confusion matrix = \n",
      " [[3831    0]\n",
      " [2656    1]]\n",
      "accuracy =  0.5906288532675709\n",
      "precision =  0.7952828734391861\n",
      "recall =  0.5001881821603312\n",
      "\n",
      "\n",
      "   main_category  currency      goal  n_days_crowdfunding\n",
      "0              6         4   35000.0                   30\n",
      "1              8         4  100000.0                   30\n",
      "2              6         4    1500.0                   29\n",
      "3             12         4    2000.0                   30\n",
      "4              1         4     500.0                   30\n",
      "confusion matrix = \n",
      " [[3831    0]\n",
      " [2656    0]]\n",
      "accuracy =  0.5905657468783722\n",
      "precision =  0.2952828734391861\n",
      "recall =  0.5\n",
      "\n",
      "\n",
      "   main_category  currency      goal  n_days_crowdfunding\n",
      "0              6         4   35000.0                   30\n",
      "1              8         4  100000.0                   30\n",
      "3             12         4    2000.0                   30\n",
      "5              4         4    7000.0                   36\n",
      "6             10         2    3500.0                   30\n"
     ]
    },
    {
     "name": "stderr",
     "output_type": "stream",
     "text": [
      "C:\\Users\\Yumika\\Anaconda3\\lib\\site-packages\\sklearn\\metrics\\_classification.py:1221: UndefinedMetricWarning: Precision is ill-defined and being set to 0.0 in labels with no predicted samples. Use `zero_division` parameter to control this behavior.\n",
      "  _warn_prf(average, modifier, msg_start, len(result))\n",
      "C:\\Users\\Yumika\\Anaconda3\\lib\\site-packages\\sklearn\\metrics\\_classification.py:1221: UndefinedMetricWarning: Precision is ill-defined and being set to 0.0 in labels with no predicted samples. Use `zero_division` parameter to control this behavior.\n",
      "  _warn_prf(average, modifier, msg_start, len(result))\n"
     ]
    },
    {
     "name": "stdout",
     "output_type": "stream",
     "text": [
      "confusion matrix = \n",
      " [[3884    0]\n",
      " [2603    0]]\n",
      "accuracy =  0.5987359334052721\n",
      "precision =  0.29936796670263605\n",
      "recall =  0.5\n",
      "\n",
      "\n",
      "   main_category  currency     goal  n_days_crowdfunding\n",
      "0              6         4  35000.0                   30\n",
      "2              6         4   1500.0                   29\n",
      "3             12         4   2000.0                   30\n",
      "4              1         4    500.0                   30\n",
      "5              4         4   7000.0                   36\n",
      "confusion matrix = \n",
      " [[3881    0]\n",
      " [2606    0]]\n",
      "accuracy =  0.598273470016957\n",
      "precision =  0.2991367350084785\n",
      "recall =  0.5\n",
      "\n",
      "\n",
      "   main_category  currency      goal  n_days_crowdfunding\n",
      "0              6         4   35000.0                   30\n",
      "1              8         4  100000.0                   30\n",
      "2              6         4    1500.0                   29\n",
      "3             12         4    2000.0                   30\n",
      "4              1         4     500.0                   30\n"
     ]
    },
    {
     "name": "stderr",
     "output_type": "stream",
     "text": [
      "C:\\Users\\Yumika\\Anaconda3\\lib\\site-packages\\sklearn\\metrics\\_classification.py:1221: UndefinedMetricWarning: Precision is ill-defined and being set to 0.0 in labels with no predicted samples. Use `zero_division` parameter to control this behavior.\n",
      "  _warn_prf(average, modifier, msg_start, len(result))\n",
      "C:\\Users\\Yumika\\Anaconda3\\lib\\site-packages\\sklearn\\metrics\\_classification.py:1221: UndefinedMetricWarning: Precision is ill-defined and being set to 0.0 in labels with no predicted samples. Use `zero_division` parameter to control this behavior.\n",
      "  _warn_prf(average, modifier, msg_start, len(result))\n"
     ]
    },
    {
     "name": "stdout",
     "output_type": "stream",
     "text": [
      "confusion matrix = \n",
      " [[3858    0]\n",
      " [2629    0]]\n",
      "accuracy =  0.594727917373208\n",
      "precision =  0.297363958686604\n",
      "recall =  0.5\n",
      "\n",
      "\n",
      "Average accuracy: 0.5945863841882759\n",
      "Average precision: 0.3972868814552182\n",
      "Average recall: 0.5000376364320662\n",
      "[[3.857e+03 0.000e+00]\n",
      " [2.630e+03 2.000e-01]]\n"
     ]
    },
    {
     "data": {
      "text/plain": [
       "<matplotlib.axes._subplots.AxesSubplot at 0x254cc6b4438>"
      ]
     },
     "execution_count": 87,
     "metadata": {},
     "output_type": "execute_result"
    },
    {
     "data": {
      "image/png": "[encoded data removed]",
      "text/plain": [
       "<Figure size 432x288 with 2 Axes>"
      ]
     },
     "metadata": {
      "needs_background": "light"
     },
     "output_type": "display_data"
    }
   ],
   "source": [
    "# Logistic regression with cross validation\n",
    "from sklearn.model_selection import KFold\n",
    "from sklearn.model_selection import cross_val_score\n",
    "\n",
    "n = 5\n",
    "kf = KFold(n_splits=n, random_state=None, shuffle=True)\n",
    "\n",
    "results = []\n",
    "\n",
    "cm_all = np.zeros((2, 2))\n",
    "acc_total = 0\n",
    "prec_total = 0\n",
    "recall_total = 0\n",
    "\n",
    "for train_idx, test_idx in kf.split(X_10):\n",
    "    X_train = X_10.iloc[train_idx]\n",
    "    X_test = X_10.iloc[test_idx]\n",
    "    y_train = y_10[train_idx]\n",
    "    y_test = y_10[test_idx]\n",
    "    \n",
    "    print(X_train.head(5))\n",
    "\n",
    "    # Define and fit the model\n",
    "    model = LogisticRegression(solver='liblinear', multi_class='auto')\n",
    "    model.fit(X_train, y_train)\n",
    "\n",
    "    # Use the model to make predictions\n",
    "    y_pred = model.predict(X_test)\n",
    "    \n",
    "    cm = confusion_matrix(y_true=y_test, y_pred=y_pred)\n",
    "    acc_total += accuracy_score(y_true=y_test, y_pred=y_pred)\n",
    "    prec_total += precision_score(y_true=y_test, y_pred=y_pred, average='macro')\n",
    "    recall_total += recall_score(y_true=y_test, y_pred=y_pred, average='macro')\n",
    "    cm_all += cm\n",
    "    \n",
    "    print('confusion matrix = \\n', cm)\n",
    "    print('accuracy = ', accuracy_score(y_true=y_test, y_pred=y_pred))\n",
    "    print('precision = ', precision_score(y_true=y_test, y_pred=y_pred, average='macro'))\n",
    "    print('recall = ', recall_score(y_true=y_test, y_pred=y_pred, average='macro'))\n",
    "    print(\"\\n\")\n",
    "    #print('f1 score = ', f1_score(y_true=y_test, y_pred=y_pred, average='macro'))\n",
    "\n",
    "    \n",
    "print(\"Average accuracy:\", acc_total / n)\n",
    "print(\"Average precision:\", prec_total / n)\n",
    "print(\"Average recall:\", recall_total / n)\n",
    "print(cm_all/n)\n",
    "sns.heatmap(cm_all/n)"
   ]
  },
  {
   "cell_type": "markdown",
   "metadata": {},
   "source": [
    "#### Outliers"
   ]
  },
  {
   "cell_type": "code",
   "execution_count": 36,
   "metadata": {},
   "outputs": [],
   "source": [
    "df_merged = pd.concat([X_10, y_10], axis=1)\n",
    "df_merged = df_merged.rename(columns = {0:'state'})"
   ]
  },
  {
   "cell_type": "code",
   "execution_count": 37,
   "metadata": {},
   "outputs": [
    {
     "data": {
      "text/plain": [
       "<matplotlib.axes._subplots.AxesSubplot at 0x254cc104f28>"
      ]
     },
     "execution_count": 37,
     "metadata": {},
     "output_type": "execute_result"
    },
    {
     "data": {
      "image/png": "[encoded data removed]",
      "text/plain": [
       "<Figure size 432x288 with 1 Axes>"
      ]
     },
     "metadata": {
      "needs_background": "light"
     },
     "output_type": "display_data"
    }
   ],
   "source": [
    "# Boxplot prior to removing outliers from 'goal'\n",
    "sns.boxplot(x=df_merged['goal'])"
   ]
  },
  {
   "cell_type": "code",
   "execution_count": 38,
   "metadata": {},
   "outputs": [
    {
     "data": {
      "text/plain": [
       "0.05      350.0\n",
       "0.95    70000.0\n",
       "Name: goal, dtype: float64"
      ]
     },
     "execution_count": 38,
     "metadata": {},
     "output_type": "execute_result"
    }
   ],
   "source": [
    "# Remove outliers for goal\n",
    "low = 0.05\n",
    "high = 0.95\n",
    "quant_df_merged = df_merged['goal'].quantile([low, high])\n",
    "quant_df_merged.head(5)"
   ]
  },
  {
   "cell_type": "code",
   "execution_count": 39,
   "metadata": {},
   "outputs": [
    {
     "data": {
      "text/plain": [
       "(32436, 5)"
      ]
     },
     "metadata": {},
     "output_type": "display_data"
    },
    {
     "data": {
      "text/plain": [
       "(29229, 5)"
      ]
     },
     "metadata": {},
     "output_type": "display_data"
    },
    {
     "data": {
      "text/html": [
       "<div>\n",
       "<style scoped>\n",
       "    .dataframe tbody tr th:only-of-type {\n",
       "        vertical-align: middle;\n",
       "    }\n",
       "\n",
       "    .dataframe tbody tr th {\n",
       "        vertical-align: top;\n",
       "    }\n",
       "\n",
       "    .dataframe thead th {\n",
       "        text-align: right;\n",
       "    }\n",
       "</style>\n",
       "<table border=\"1\" class=\"dataframe\">\n",
       "  <thead>\n",
       "    <tr style=\"text-align: right;\">\n",
       "      <th></th>\n",
       "      <th>main_category</th>\n",
       "      <th>currency</th>\n",
       "      <th>goal</th>\n",
       "      <th>n_days_crowdfunding</th>\n",
       "      <th>state</th>\n",
       "    </tr>\n",
       "  </thead>\n",
       "  <tbody>\n",
       "    <tr>\n",
       "      <th>0</th>\n",
       "      <td>7</td>\n",
       "      <td>4</td>\n",
       "      <td>5000.0</td>\n",
       "      <td>17</td>\n",
       "      <td>0</td>\n",
       "    </tr>\n",
       "    <tr>\n",
       "      <th>1</th>\n",
       "      <td>12</td>\n",
       "      <td>4</td>\n",
       "      <td>6000.0</td>\n",
       "      <td>30</td>\n",
       "      <td>0</td>\n",
       "    </tr>\n",
       "    <tr>\n",
       "      <th>2</th>\n",
       "      <td>6</td>\n",
       "      <td>4</td>\n",
       "      <td>8750.0</td>\n",
       "      <td>43</td>\n",
       "      <td>0</td>\n",
       "    </tr>\n",
       "    <tr>\n",
       "      <th>3</th>\n",
       "      <td>10</td>\n",
       "      <td>4</td>\n",
       "      <td>5000.0</td>\n",
       "      <td>24</td>\n",
       "      <td>1</td>\n",
       "    </tr>\n",
       "    <tr>\n",
       "      <th>4</th>\n",
       "      <td>13</td>\n",
       "      <td>3</td>\n",
       "      <td>28000.0</td>\n",
       "      <td>28</td>\n",
       "      <td>0</td>\n",
       "    </tr>\n",
       "  </tbody>\n",
       "</table>\n",
       "</div>"
      ],
      "text/plain": [
       "   main_category  currency     goal  n_days_crowdfunding  state\n",
       "0              7         4   5000.0                   17      0\n",
       "1             12         4   6000.0                   30      0\n",
       "2              6         4   8750.0                   43      0\n",
       "3             10         4   5000.0                   24      1\n",
       "4             13         3  28000.0                   28      0"
      ]
     },
     "execution_count": 39,
     "metadata": {},
     "output_type": "execute_result"
    }
   ],
   "source": [
    "display(df_merged.shape)\n",
    "df_merged = df_merged[(df_merged['goal'] > 350.0) & (df_merged['goal'] < 75000)]\n",
    "display(df_merged.shape)\n",
    "df_merged.head(5)"
   ]
  },
  {
   "cell_type": "code",
   "execution_count": 40,
   "metadata": {},
   "outputs": [
    {
     "data": {
      "text/plain": [
       "<matplotlib.axes._subplots.AxesSubplot at 0x254cdf40080>"
      ]
     },
     "execution_count": 40,
     "metadata": {},
     "output_type": "execute_result"
    },
    {
     "data": {
      "image/png": "[encoded data removed]",
      "text/plain": [
       "<Figure size 432x288 with 1 Axes>"
      ]
     },
     "metadata": {
      "needs_background": "light"
     },
     "output_type": "display_data"
    }
   ],
   "source": [
    "# Boxplot after  to removing outliers from 'goal'\n",
    "sns.boxplot(x=df_merged['goal'])"
   ]
  },
  {
   "cell_type": "code",
   "execution_count": 41,
   "metadata": {},
   "outputs": [
    {
     "data": {
      "text/plain": [
       "<matplotlib.axes._subplots.AxesSubplot at 0x254cefb0208>"
      ]
     },
     "execution_count": 41,
     "metadata": {},
     "output_type": "execute_result"
    },
    {
     "data": {
      "image/png": "[encoded data removed]",
      "text/plain": [
       "<Figure size 432x288 with 1 Axes>"
      ]
     },
     "metadata": {
      "needs_background": "light"
     },
     "output_type": "display_data"
    }
   ],
   "source": [
    "# Boxplot prior to removing outliers from 'goal'\n",
    "sns.boxplot(x=df_merged['n_days_crowdfunding'])"
   ]
  },
  {
   "cell_type": "code",
   "execution_count": 42,
   "metadata": {},
   "outputs": [
    {
     "data": {
      "text/plain": [
       "0.05    17.0\n",
       "0.95    60.0\n",
       "Name: n_days_crowdfunding, dtype: float64"
      ]
     },
     "execution_count": 42,
     "metadata": {},
     "output_type": "execute_result"
    }
   ],
   "source": [
    "# Remove outliers for n_days_crowdfunding\n",
    "low = 0.05\n",
    "high = 0.95\n",
    "quant_df_merged = df_merged['n_days_crowdfunding'].quantile([low, high])\n",
    "quant_df_merged.head(5)"
   ]
  },
  {
   "cell_type": "code",
   "execution_count": 43,
   "metadata": {},
   "outputs": [
    {
     "data": {
      "text/plain": [
       "(29229, 5)"
      ]
     },
     "metadata": {},
     "output_type": "display_data"
    },
    {
     "data": {
      "text/plain": [
       "(24968, 5)"
      ]
     },
     "metadata": {},
     "output_type": "display_data"
    },
    {
     "data": {
      "text/html": [
       "<div>\n",
       "<style scoped>\n",
       "    .dataframe tbody tr th:only-of-type {\n",
       "        vertical-align: middle;\n",
       "    }\n",
       "\n",
       "    .dataframe tbody tr th {\n",
       "        vertical-align: top;\n",
       "    }\n",
       "\n",
       "    .dataframe thead th {\n",
       "        text-align: right;\n",
       "    }\n",
       "</style>\n",
       "<table border=\"1\" class=\"dataframe\">\n",
       "  <thead>\n",
       "    <tr style=\"text-align: right;\">\n",
       "      <th></th>\n",
       "      <th>main_category</th>\n",
       "      <th>currency</th>\n",
       "      <th>goal</th>\n",
       "      <th>n_days_crowdfunding</th>\n",
       "      <th>state</th>\n",
       "    </tr>\n",
       "  </thead>\n",
       "  <tbody>\n",
       "    <tr>\n",
       "      <th>0</th>\n",
       "      <td>7</td>\n",
       "      <td>4</td>\n",
       "      <td>5000.0</td>\n",
       "      <td>17</td>\n",
       "      <td>0</td>\n",
       "    </tr>\n",
       "    <tr>\n",
       "      <th>1</th>\n",
       "      <td>12</td>\n",
       "      <td>4</td>\n",
       "      <td>6000.0</td>\n",
       "      <td>30</td>\n",
       "      <td>0</td>\n",
       "    </tr>\n",
       "    <tr>\n",
       "      <th>2</th>\n",
       "      <td>6</td>\n",
       "      <td>4</td>\n",
       "      <td>8750.0</td>\n",
       "      <td>43</td>\n",
       "      <td>0</td>\n",
       "    </tr>\n",
       "    <tr>\n",
       "      <th>3</th>\n",
       "      <td>10</td>\n",
       "      <td>4</td>\n",
       "      <td>5000.0</td>\n",
       "      <td>24</td>\n",
       "      <td>1</td>\n",
       "    </tr>\n",
       "    <tr>\n",
       "      <th>4</th>\n",
       "      <td>13</td>\n",
       "      <td>3</td>\n",
       "      <td>28000.0</td>\n",
       "      <td>28</td>\n",
       "      <td>0</td>\n",
       "    </tr>\n",
       "  </tbody>\n",
       "</table>\n",
       "</div>"
      ],
      "text/plain": [
       "   main_category  currency     goal  n_days_crowdfunding  state\n",
       "0              7         4   5000.0                   17      0\n",
       "1             12         4   6000.0                   30      0\n",
       "2              6         4   8750.0                   43      0\n",
       "3             10         4   5000.0                   24      1\n",
       "4             13         3  28000.0                   28      0"
      ]
     },
     "execution_count": 43,
     "metadata": {},
     "output_type": "execute_result"
    }
   ],
   "source": [
    "display(df_merged.shape)\n",
    "df_merged = df_merged[(df_merged['n_days_crowdfunding'] > 16.0) & (df_merged['n_days_crowdfunding'] < 60.0)]\n",
    "display(df_merged.shape)\n",
    "df_merged.head(5)"
   ]
  },
  {
   "cell_type": "code",
   "execution_count": 44,
   "metadata": {},
   "outputs": [
    {
     "data": {
      "text/plain": [
       "<matplotlib.axes._subplots.AxesSubplot at 0x254cf00b470>"
      ]
     },
     "execution_count": 44,
     "metadata": {},
     "output_type": "execute_result"
    },
    {
     "data": {
      "image/png": "[encoded data removed]",
      "text/plain": [
       "<Figure size 432x288 with 1 Axes>"
      ]
     },
     "metadata": {
      "needs_background": "light"
     },
     "output_type": "display_data"
    }
   ],
   "source": [
    "# Boxplot prior to removing outliers from 'goal'\n",
    "sns.boxplot(x=df_merged['n_days_crowdfunding'])"
   ]
  },
  {
   "cell_type": "code",
   "execution_count": 45,
   "metadata": {},
   "outputs": [
    {
     "data": {
      "text/html": [
       "<div>\n",
       "<style scoped>\n",
       "    .dataframe tbody tr th:only-of-type {\n",
       "        vertical-align: middle;\n",
       "    }\n",
       "\n",
       "    .dataframe tbody tr th {\n",
       "        vertical-align: top;\n",
       "    }\n",
       "\n",
       "    .dataframe thead th {\n",
       "        text-align: right;\n",
       "    }\n",
       "</style>\n",
       "<table border=\"1\" class=\"dataframe\">\n",
       "  <thead>\n",
       "    <tr style=\"text-align: right;\">\n",
       "      <th></th>\n",
       "      <th>main_category</th>\n",
       "      <th>currency</th>\n",
       "      <th>goal</th>\n",
       "      <th>n_days_crowdfunding</th>\n",
       "    </tr>\n",
       "  </thead>\n",
       "  <tbody>\n",
       "    <tr>\n",
       "      <th>0</th>\n",
       "      <td>7</td>\n",
       "      <td>4</td>\n",
       "      <td>5000.0</td>\n",
       "      <td>17</td>\n",
       "    </tr>\n",
       "    <tr>\n",
       "      <th>1</th>\n",
       "      <td>12</td>\n",
       "      <td>4</td>\n",
       "      <td>6000.0</td>\n",
       "      <td>30</td>\n",
       "    </tr>\n",
       "    <tr>\n",
       "      <th>2</th>\n",
       "      <td>6</td>\n",
       "      <td>4</td>\n",
       "      <td>8750.0</td>\n",
       "      <td>43</td>\n",
       "    </tr>\n",
       "    <tr>\n",
       "      <th>3</th>\n",
       "      <td>10</td>\n",
       "      <td>4</td>\n",
       "      <td>5000.0</td>\n",
       "      <td>24</td>\n",
       "    </tr>\n",
       "    <tr>\n",
       "      <th>4</th>\n",
       "      <td>13</td>\n",
       "      <td>3</td>\n",
       "      <td>28000.0</td>\n",
       "      <td>28</td>\n",
       "    </tr>\n",
       "  </tbody>\n",
       "</table>\n",
       "</div>"
      ],
      "text/plain": [
       "   main_category  currency     goal  n_days_crowdfunding\n",
       "0              7         4   5000.0                   17\n",
       "1             12         4   6000.0                   30\n",
       "2              6         4   8750.0                   43\n",
       "3             10         4   5000.0                   24\n",
       "4             13         3  28000.0                   28"
      ]
     },
     "metadata": {},
     "output_type": "display_data"
    },
    {
     "data": {
      "text/plain": [
       "0    0\n",
       "1    0\n",
       "2    0\n",
       "3    1\n",
       "4    0\n",
       "Name: state, dtype: int8"
      ]
     },
     "metadata": {},
     "output_type": "display_data"
    }
   ],
   "source": [
    "df_merged.reset_index(drop=True, inplace=True)\n",
    "X_10 = df_merged[['main_category','currency', 'goal', 'n_days_crowdfunding']]\n",
    "y_10 = df_merged['state']\n",
    "\n",
    "display(X_10.head(5))\n",
    "display(y_10.head(5))"
   ]
  },
  {
   "cell_type": "markdown",
   "metadata": {},
   "source": [
    "Now, rerun the logistic regression with the data with outliers removed."
   ]
  },
  {
   "cell_type": "code",
   "execution_count": 46,
   "metadata": {},
   "outputs": [
    {
     "name": "stderr",
     "output_type": "stream",
     "text": [
      "C:\\Users\\Yumika\\Anaconda3\\lib\\site-packages\\sklearn\\metrics\\_classification.py:1221: UndefinedMetricWarning: Precision is ill-defined and being set to 0.0 in labels with no predicted samples. Use `zero_division` parameter to control this behavior.\n",
      "  _warn_prf(average, modifier, msg_start, len(result))\n"
     ]
    },
    {
     "name": "stdout",
     "output_type": "stream",
     "text": [
      "confusion matrix = \n",
      " [[2866    0]\n",
      " [2128    0]]\n",
      "accuracy =  0.5738886663996796\n",
      "precision =  0.2869443331998398\n",
      "recall =  0.5\n",
      "\n",
      "\n",
      "confusion matrix = \n",
      " [[2540  320]\n",
      " [1719  415]]\n",
      "accuracy =  0.591710052062475\n",
      "precision =  0.5805049890348251\n",
      "recall =  0.5412911830437603\n",
      "\n",
      "\n"
     ]
    },
    {
     "name": "stderr",
     "output_type": "stream",
     "text": [
      "C:\\Users\\Yumika\\Anaconda3\\lib\\site-packages\\sklearn\\metrics\\_classification.py:1221: UndefinedMetricWarning: Precision is ill-defined and being set to 0.0 in labels with no predicted samples. Use `zero_division` parameter to control this behavior.\n",
      "  _warn_prf(average, modifier, msg_start, len(result))\n",
      "C:\\Users\\Yumika\\Anaconda3\\lib\\site-packages\\sklearn\\metrics\\_classification.py:1221: UndefinedMetricWarning: Precision is ill-defined and being set to 0.0 in labels with no predicted samples. Use `zero_division` parameter to control this behavior.\n",
      "  _warn_prf(average, modifier, msg_start, len(result))\n",
      "C:\\Users\\Yumika\\Anaconda3\\lib\\site-packages\\sklearn\\metrics\\_classification.py:1221: UndefinedMetricWarning: Precision is ill-defined and being set to 0.0 in labels with no predicted samples. Use `zero_division` parameter to control this behavior.\n",
      "  _warn_prf(average, modifier, msg_start, len(result))\n"
     ]
    },
    {
     "name": "stdout",
     "output_type": "stream",
     "text": [
      "confusion matrix = \n",
      " [[2838    0]\n",
      " [2156    0]]\n",
      "accuracy =  0.5682819383259912\n",
      "precision =  0.2841409691629956\n",
      "recall =  0.5\n",
      "\n",
      "\n",
      "confusion matrix = \n",
      " [[2854    0]\n",
      " [2139    0]]\n",
      "accuracy =  0.571600240336471\n",
      "precision =  0.2858001201682355\n",
      "recall =  0.5\n",
      "\n",
      "\n",
      "confusion matrix = \n",
      " [[2885    0]\n",
      " [2108    0]]\n",
      "accuracy =  0.5778089325055077\n",
      "precision =  0.28890446625275384\n",
      "recall =  0.5\n",
      "\n",
      "\n",
      "Average accuracy: 0.5766579659260248\n",
      "Average precision: 0.3452589755637299\n",
      "Average recall: 0.508258236608752\n",
      "[[2796.6   64. ]\n",
      " [2050.    83. ]]\n"
     ]
    },
    {
     "data": {
      "text/plain": [
       "<matplotlib.axes._subplots.AxesSubplot at 0x254d04d2128>"
      ]
     },
     "execution_count": 46,
     "metadata": {},
     "output_type": "execute_result"
    },
    {
     "data": {
      "image/png": "[encoded data removed]",
      "text/plain": [
       "<Figure size 432x288 with 2 Axes>"
      ]
     },
     "metadata": {
      "needs_background": "light"
     },
     "output_type": "display_data"
    }
   ],
   "source": [
    "# Logistic regression with cross validation\n",
    "from sklearn.model_selection import KFold\n",
    "from sklearn.model_selection import cross_val_score\n",
    "\n",
    "n = 5\n",
    "kf = KFold(n_splits=n, random_state=None, shuffle=True)\n",
    "\n",
    "results = []\n",
    "\n",
    "cm_all = np.zeros((2, 2))\n",
    "acc_total = 0\n",
    "prec_total = 0\n",
    "recall_total = 0\n",
    "\n",
    "for train_idx, test_idx in kf.split(X_10):\n",
    "    X_train = X_10.iloc[train_idx]\n",
    "    X_test = X_10.iloc[test_idx]\n",
    "    y_train = y_10[train_idx]\n",
    "    y_test = y_10[test_idx]\n",
    "    \n",
    "    #print(X_train.head(5))\n",
    "\n",
    "    # Define and fit the model\n",
    "    model = LogisticRegression(solver='liblinear', multi_class='auto')\n",
    "    model.fit(X_train, y_train)\n",
    "\n",
    "    # Use the model to make predictions\n",
    "    y_pred = model.predict(X_test)\n",
    "    \n",
    "    cm = confusion_matrix(y_true=y_test, y_pred=y_pred)\n",
    "    acc_total += accuracy_score(y_true=y_test, y_pred=y_pred)\n",
    "    prec_total += precision_score(y_true=y_test, y_pred=y_pred, average='macro')\n",
    "    recall_total += recall_score(y_true=y_test, y_pred=y_pred, average='macro')\n",
    "    cm_all += cm\n",
    "    \n",
    "    print('confusion matrix = \\n', cm)\n",
    "    print('accuracy = ', accuracy_score(y_true=y_test, y_pred=y_pred))\n",
    "    print('precision = ', precision_score(y_true=y_test, y_pred=y_pred, average='macro'))\n",
    "    print('recall = ', recall_score(y_true=y_test, y_pred=y_pred, average='macro'))\n",
    "    print(\"\\n\")\n",
    "    #print('f1 score = ', f1_score(y_true=y_test, y_pred=y_pred, average='macro'))\n",
    "    \n",
    "print(\"Average accuracy:\", acc_total / n)\n",
    "print(\"Average precision:\", prec_total / n)\n",
    "print(\"Average recall:\", recall_total / n)\n",
    "print(cm_all/n)\n",
    "sns.heatmap(cm_all/n)"
   ]
  },
  {
   "cell_type": "markdown",
   "metadata": {},
   "source": [
    "Observation:\n",
    "- The model accuracy actually dropped...\n",
    "- It can be due to the outliers (e.g. ones having extremely high goal) tending to fail"
   ]
  },
  {
   "cell_type": "markdown",
   "metadata": {},
   "source": [
    "=> Will bring back the dataset without cutting the outliers"
   ]
  },
  {
   "cell_type": "markdown",
   "metadata": {},
   "source": [
    "### SVM"
   ]
  },
  {
   "cell_type": "code",
   "execution_count": 89,
   "metadata": {},
   "outputs": [
    {
     "data": {
      "text/plain": [
       "(32436, 4)"
      ]
     },
     "metadata": {},
     "output_type": "display_data"
    },
    {
     "data": {
      "text/plain": [
       "(32436,)"
      ]
     },
     "execution_count": 89,
     "metadata": {},
     "output_type": "execute_result"
    }
   ],
   "source": [
    "display(X_10.shape)\n",
    "y_10.shape"
   ]
  },
  {
   "cell_type": "code",
   "execution_count": 90,
   "metadata": {},
   "outputs": [
    {
     "name": "stdout",
     "output_type": "stream",
     "text": [
      "(25948, 4)\n",
      "(6488, 4)\n",
      "(25948,)\n",
      "(6488,)\n"
     ]
    }
   ],
   "source": [
    "X_train, X_test, y_train, y_test = train_test_split(X_10, y_10, test_size=0.2, random_state=None)\n",
    "\n",
    "print(X_train.shape)\n",
    "print(X_test.shape)\n",
    "print(y_train.shape)\n",
    "print(y_test.shape)"
   ]
  },
  {
   "cell_type": "code",
   "execution_count": 91,
   "metadata": {},
   "outputs": [
    {
     "name": "stdout",
     "output_type": "stream",
     "text": [
      "Misclassified samples: 2618\n",
      "Accuracy: 0.60\n"
     ]
    }
   ],
   "source": [
    "# Standarization\n",
    "sc = StandardScaler()\n",
    "sc.fit(X_train)\n",
    "X_train_std = sc.transform(X_train)\n",
    "X_test_std = sc.transform(X_test)\n",
    "\n",
    "model = SVC(kernel='linear', random_state=None)\n",
    "model.fit(X_train_std, y_train)\n",
    "# Use the model to make predictions\n",
    "y_pred = model.predict(X_test_std)\n",
    "\n",
    "count_misclassified = (y_test != y_pred).sum()\n",
    "print('Misclassified samples: {}'.format(count_misclassified))\n",
    "accuracy = metrics.accuracy_score(y_test, y_pred)\n",
    "print('Accuracy: {:.2f}'.format(accuracy))"
   ]
  },
  {
   "cell_type": "code",
   "execution_count": 93,
   "metadata": {},
   "outputs": [
    {
     "name": "stderr",
     "output_type": "stream",
     "text": [
      "C:\\Users\\Yumika\\Anaconda3\\lib\\site-packages\\sklearn\\metrics\\_classification.py:1221: UndefinedMetricWarning: Precision is ill-defined and being set to 0.0 in labels with no predicted samples. Use `zero_division` parameter to control this behavior.\n",
      "  _warn_prf(average, modifier, msg_start, len(result))\n"
     ]
    },
    {
     "name": "stdout",
     "output_type": "stream",
     "text": [
      "confusion matrix = \n",
      " [[3855    0]\n",
      " [2633    0]]\n",
      "accuracy =  0.594173859432799\n",
      "precision =  0.2970869297163995\n",
      "recall =  0.5\n",
      "\n",
      "\n"
     ]
    },
    {
     "name": "stderr",
     "output_type": "stream",
     "text": [
      "C:\\Users\\Yumika\\Anaconda3\\lib\\site-packages\\sklearn\\metrics\\_classification.py:1221: UndefinedMetricWarning: Precision is ill-defined and being set to 0.0 in labels with no predicted samples. Use `zero_division` parameter to control this behavior.\n",
      "  _warn_prf(average, modifier, msg_start, len(result))\n"
     ]
    },
    {
     "name": "stdout",
     "output_type": "stream",
     "text": [
      "confusion matrix = \n",
      " [[3840    0]\n",
      " [2647    0]]\n",
      "accuracy =  0.5919531370433174\n",
      "precision =  0.2959765685216587\n",
      "recall =  0.5\n",
      "\n",
      "\n"
     ]
    },
    {
     "name": "stderr",
     "output_type": "stream",
     "text": [
      "C:\\Users\\Yumika\\Anaconda3\\lib\\site-packages\\sklearn\\metrics\\_classification.py:1221: UndefinedMetricWarning: Precision is ill-defined and being set to 0.0 in labels with no predicted samples. Use `zero_division` parameter to control this behavior.\n",
      "  _warn_prf(average, modifier, msg_start, len(result))\n"
     ]
    },
    {
     "name": "stdout",
     "output_type": "stream",
     "text": [
      "confusion matrix = \n",
      " [[3888    0]\n",
      " [2599    0]]\n",
      "accuracy =  0.5993525512563589\n",
      "precision =  0.29967627562817944\n",
      "recall =  0.5\n",
      "\n",
      "\n"
     ]
    },
    {
     "name": "stderr",
     "output_type": "stream",
     "text": [
      "C:\\Users\\Yumika\\Anaconda3\\lib\\site-packages\\sklearn\\metrics\\_classification.py:1221: UndefinedMetricWarning: Precision is ill-defined and being set to 0.0 in labels with no predicted samples. Use `zero_division` parameter to control this behavior.\n",
      "  _warn_prf(average, modifier, msg_start, len(result))\n"
     ]
    },
    {
     "name": "stdout",
     "output_type": "stream",
     "text": [
      "confusion matrix = \n",
      " [[3841    0]\n",
      " [2646    0]]\n",
      "accuracy =  0.5921072915060891\n",
      "precision =  0.29605364575304455\n",
      "recall =  0.5\n",
      "\n",
      "\n",
      "confusion matrix = \n",
      " [[3861    0]\n",
      " [2626    0]]\n",
      "accuracy =  0.5951903807615231\n",
      "precision =  0.29759519038076154\n",
      "recall =  0.5\n",
      "\n",
      "\n",
      "Average accuracy: 0.5945554440000175\n",
      "Average precision: 0.29727772200000874\n",
      "Average recall: 0.5\n",
      "[[3857.     0. ]\n",
      " [2630.2    0. ]]\n"
     ]
    },
    {
     "name": "stderr",
     "output_type": "stream",
     "text": [
      "C:\\Users\\Yumika\\Anaconda3\\lib\\site-packages\\sklearn\\metrics\\_classification.py:1221: UndefinedMetricWarning: Precision is ill-defined and being set to 0.0 in labels with no predicted samples. Use `zero_division` parameter to control this behavior.\n",
      "  _warn_prf(average, modifier, msg_start, len(result))\n"
     ]
    },
    {
     "data": {
      "text/plain": [
       "<matplotlib.axes._subplots.AxesSubplot at 0x254ce954cc0>"
      ]
     },
     "execution_count": 93,
     "metadata": {},
     "output_type": "execute_result"
    },
    {
     "data": {
      "image/png": "[encoded data removed]",
      "text/plain": [
       "<Figure size 432x288 with 2 Axes>"
      ]
     },
     "metadata": {
      "needs_background": "light"
     },
     "output_type": "display_data"
    }
   ],
   "source": [
    "# SVM with cross validation\n",
    "n = 5\n",
    "kf = KFold(n_splits=n, random_state=None, shuffle=True)\n",
    "\n",
    "results = []\n",
    "\n",
    "cm_all = np.zeros((2, 2))\n",
    "acc_total = 0\n",
    "prec_total = 0\n",
    "recall_total = 0\n",
    "\n",
    "for train_idx, test_idx in kf.split(X_10):\n",
    "    X_train = X_10.iloc[train_idx]\n",
    "    X_test = X_10.iloc[test_idx]\n",
    "    y_train = y_10[train_idx]\n",
    "    y_test = y_10[test_idx]\n",
    "\n",
    "    # Standarization\n",
    "    sc = StandardScaler()\n",
    "    sc.fit(X_train)\n",
    "    X_train_std = sc.transform(X_train)\n",
    "    X_test_std = sc.transform(X_test)\n",
    "\n",
    "    model = SVC(kernel='linear', random_state=None)\n",
    "    model.fit(X_train_std, y_train)\n",
    "    # Use the model to make predictions\n",
    "    y_pred = model.predict(X_test_std)\n",
    "    \n",
    "    cm = confusion_matrix(y_true=y_test, y_pred=y_pred)\n",
    "    acc_total += accuracy_score(y_true=y_test, y_pred=y_pred)\n",
    "    prec_total += precision_score(y_true=y_test, y_pred=y_pred, average='macro')\n",
    "    recall_total += recall_score(y_true=y_test, y_pred=y_pred, average='macro')\n",
    "    cm_all += cm\n",
    "    \n",
    "    print('confusion matrix = \\n', cm)\n",
    "    print('accuracy = ', accuracy_score(y_true=y_test, y_pred=y_pred))\n",
    "    print('precision = ', precision_score(y_true=y_test, y_pred=y_pred, average='macro'))\n",
    "    print('recall = ', recall_score(y_true=y_test, y_pred=y_pred, average='macro'))\n",
    "    print(\"\\n\")\n",
    "    #print('f1 score = ', f1_score(y_true=y_test, y_pred=y_pred, average='macro'))\n",
    "    \n",
    "print(\"Average accuracy:\", acc_total / n)\n",
    "print(\"Average precision:\", prec_total / n)\n",
    "print(\"Average recall:\", recall_total / n)\n",
    "print(cm_all/n)\n",
    "sns.heatmap(cm_all/n)"
   ]
  },
  {
   "cell_type": "markdown",
   "metadata": {},
   "source": [
    "Observation:\n",
    "- The accuracy is pretty much the same as that of logistic regression"
   ]
  },
  {
   "cell_type": "markdown",
   "metadata": {},
   "source": [
    "### Hyperparameter Tuning"
   ]
  },
  {
   "cell_type": "code",
   "execution_count": 94,
   "metadata": {},
   "outputs": [
    {
     "name": "stdout",
     "output_type": "stream",
     "text": [
      "Best penalty: l1\n",
      "Best C: 1291.5496650148827\n"
     ]
    }
   ],
   "source": [
    "# Tune for C value and penalty\n",
    "# C value: regularization strength\n",
    "# penality: L1 or L2 regularization\n",
    "\n",
    "logistic = LogisticRegression(solver='liblinear')\n",
    "penalty = ['l1', 'l2']  # L1 and L2 regularizations\n",
    "\n",
    "C = np.logspace(0,4,10)\n",
    "\n",
    "hyperparameters = dict(C=C, penalty=penalty)\n",
    "\n",
    "# Find the model using grid search\n",
    "clf = GridSearchCV(logistic, hyperparameters, cv=5, verbose=0)\n",
    "best_model = clf.fit(X_10, y_10)\n",
    "\n",
    "print(\"Best penalty:\", best_model.best_estimator_.get_params()['penalty'])\n",
    "print(\"Best C:\", best_model.best_estimator_.get_params()['C'])"
   ]
  },
  {
   "cell_type": "code",
   "execution_count": 95,
   "metadata": {},
   "outputs": [
    {
     "name": "stdout",
     "output_type": "stream",
     "text": [
      "Accuracy: 0.6103400816619485\n"
     ]
    }
   ],
   "source": [
    "kfold = KFold(n_splits=5, random_state=None)\n",
    "model = LogisticRegression(solver='liblinear', C=1291.5496650148827, penalty='l1')\n",
    "results = cross_val_score(model, X_10, y_10, cv=kfold)\n",
    "print(\"Accuracy:\", results.mean())"
   ]
  },
  {
   "cell_type": "markdown",
   "metadata": {},
   "source": [
    "Result: The model accuracy improved slightly!"
   ]
  },
  {
   "cell_type": "markdown",
   "metadata": {},
   "source": [
    "### Attempts to improve model accuracy"
   ]
  },
  {
   "cell_type": "markdown",
   "metadata": {},
   "source": [
    "1. Try with 'n_days_crowdfunding' only as a predictor"
   ]
  },
  {
   "cell_type": "code",
   "execution_count": 97,
   "metadata": {},
   "outputs": [
    {
     "data": {
      "text/plain": [
       "(32436, 1)"
      ]
     },
     "metadata": {},
     "output_type": "display_data"
    },
    {
     "data": {
      "text/html": [
       "<div>\n",
       "<style scoped>\n",
       "    .dataframe tbody tr th:only-of-type {\n",
       "        vertical-align: middle;\n",
       "    }\n",
       "\n",
       "    .dataframe tbody tr th {\n",
       "        vertical-align: top;\n",
       "    }\n",
       "\n",
       "    .dataframe thead th {\n",
       "        text-align: right;\n",
       "    }\n",
       "</style>\n",
       "<table border=\"1\" class=\"dataframe\">\n",
       "  <thead>\n",
       "    <tr style=\"text-align: right;\">\n",
       "      <th></th>\n",
       "      <th>n_days_crowdfunding</th>\n",
       "    </tr>\n",
       "  </thead>\n",
       "  <tbody>\n",
       "    <tr>\n",
       "      <th>0</th>\n",
       "      <td>30</td>\n",
       "    </tr>\n",
       "    <tr>\n",
       "      <th>1</th>\n",
       "      <td>30</td>\n",
       "    </tr>\n",
       "    <tr>\n",
       "      <th>2</th>\n",
       "      <td>29</td>\n",
       "    </tr>\n",
       "    <tr>\n",
       "      <th>3</th>\n",
       "      <td>30</td>\n",
       "    </tr>\n",
       "    <tr>\n",
       "      <th>4</th>\n",
       "      <td>30</td>\n",
       "    </tr>\n",
       "  </tbody>\n",
       "</table>\n",
       "</div>"
      ],
      "text/plain": [
       "   n_days_crowdfunding\n",
       "0                   30\n",
       "1                   30\n",
       "2                   29\n",
       "3                   30\n",
       "4                   30"
      ]
     },
     "execution_count": 97,
     "metadata": {},
     "output_type": "execute_result"
    }
   ],
   "source": [
    "X_10_ndays = X_10[['n_days_crowdfunding']]\n",
    "display(X_10_ndays.shape)\n",
    "X_10_ndays.head(5)"
   ]
  },
  {
   "cell_type": "code",
   "execution_count": 98,
   "metadata": {},
   "outputs": [
    {
     "name": "stderr",
     "output_type": "stream",
     "text": [
      "C:\\Users\\Yumika\\Anaconda3\\lib\\site-packages\\sklearn\\metrics\\_classification.py:1221: UndefinedMetricWarning: Precision is ill-defined and being set to 0.0 in labels with no predicted samples. Use `zero_division` parameter to control this behavior.\n",
      "  _warn_prf(average, modifier, msg_start, len(result))\n",
      "C:\\Users\\Yumika\\Anaconda3\\lib\\site-packages\\sklearn\\metrics\\_classification.py:1221: UndefinedMetricWarning: Precision is ill-defined and being set to 0.0 in labels with no predicted samples. Use `zero_division` parameter to control this behavior.\n",
      "  _warn_prf(average, modifier, msg_start, len(result))\n"
     ]
    },
    {
     "name": "stdout",
     "output_type": "stream",
     "text": [
      "confusion matrix = \n",
      " [[3802    0]\n",
      " [2686    0]]\n",
      "accuracy =  0.5860049321824907\n",
      "precision =  0.29300246609124536\n",
      "recall =  0.5\n",
      "\n",
      "\n",
      "confusion matrix = \n",
      " [[3865    0]\n",
      " [2622    0]]\n",
      "accuracy =  0.5958069986126099\n",
      "precision =  0.29790349930630494\n",
      "recall =  0.5\n",
      "\n",
      "\n",
      "confusion matrix = \n",
      " [[3823    1]\n",
      " [2663    0]]\n",
      "accuracy =  0.5893325111761986\n",
      "precision =  0.29471168670983655\n",
      "recall =  0.4998692468619247\n",
      "\n",
      "\n",
      "confusion matrix = \n",
      " [[3880    0]\n",
      " [2607    0]]\n",
      "accuracy =  0.5981193155541853\n",
      "precision =  0.29905965777709265\n",
      "recall =  0.5\n",
      "\n",
      "\n"
     ]
    },
    {
     "name": "stderr",
     "output_type": "stream",
     "text": [
      "C:\\Users\\Yumika\\Anaconda3\\lib\\site-packages\\sklearn\\metrics\\_classification.py:1221: UndefinedMetricWarning: Precision is ill-defined and being set to 0.0 in labels with no predicted samples. Use `zero_division` parameter to control this behavior.\n",
      "  _warn_prf(average, modifier, msg_start, len(result))\n",
      "C:\\Users\\Yumika\\Anaconda3\\lib\\site-packages\\sklearn\\metrics\\_classification.py:1221: UndefinedMetricWarning: Precision is ill-defined and being set to 0.0 in labels with no predicted samples. Use `zero_division` parameter to control this behavior.\n",
      "  _warn_prf(average, modifier, msg_start, len(result))\n"
     ]
    },
    {
     "name": "stdout",
     "output_type": "stream",
     "text": [
      "confusion matrix = \n",
      " [[3914    0]\n",
      " [2573    0]]\n",
      "accuracy =  0.603360567288423\n",
      "precision =  0.3016802836442115\n",
      "recall =  0.5\n",
      "\n",
      "\n",
      "Average accuracy: 0.5945248649627815\n",
      "Average precision: 0.2972715187057382\n",
      "Average recall: 0.4999738493723849\n",
      "[[3.8568e+03 2.0000e-01]\n",
      " [2.6302e+03 0.0000e+00]]\n"
     ]
    },
    {
     "data": {
      "text/plain": [
       "<matplotlib.axes._subplots.AxesSubplot at 0x254d1b8b898>"
      ]
     },
     "execution_count": 98,
     "metadata": {},
     "output_type": "execute_result"
    },
    {
     "data": {
      "image/png": "[encoded data removed]",
      "text/plain": [
       "<Figure size 432x288 with 2 Axes>"
      ]
     },
     "metadata": {
      "needs_background": "light"
     },
     "output_type": "display_data"
    }
   ],
   "source": [
    "# Logistic regression with cross validation\n",
    "from sklearn.model_selection import KFold\n",
    "from sklearn.model_selection import cross_val_score\n",
    "\n",
    "n = 5\n",
    "kf = KFold(n_splits=n, random_state=None, shuffle=True)\n",
    "\n",
    "results = []\n",
    "\n",
    "cm_all = np.zeros((2, 2))\n",
    "acc_total = 0\n",
    "prec_total = 0\n",
    "recall_total = 0\n",
    "\n",
    "for train_idx, test_idx in kf.split(X_10_ndays):\n",
    "    X_train = X_10.iloc[train_idx]\n",
    "    X_test = X_10.iloc[test_idx]\n",
    "    y_train = y_10[train_idx]\n",
    "    y_test = y_10[test_idx]\n",
    "    \n",
    "    #print(X_train.head(5))\n",
    "\n",
    "    # Define and fit the model\n",
    "    model = LogisticRegression(solver='liblinear', multi_class='auto')\n",
    "    model.fit(X_train, y_train)\n",
    "\n",
    "    # Use the model to make predictions\n",
    "    y_pred = model.predict(X_test)\n",
    "    \n",
    "    cm = confusion_matrix(y_true=y_test, y_pred=y_pred)\n",
    "    acc_total += accuracy_score(y_true=y_test, y_pred=y_pred)\n",
    "    prec_total += precision_score(y_true=y_test, y_pred=y_pred, average='macro')\n",
    "    recall_total += recall_score(y_true=y_test, y_pred=y_pred, average='macro')\n",
    "    cm_all += cm\n",
    "    \n",
    "    print('confusion matrix = \\n', cm)\n",
    "    print('accuracy = ', accuracy_score(y_true=y_test, y_pred=y_pred))\n",
    "    print('precision = ', precision_score(y_true=y_test, y_pred=y_pred, average='macro'))\n",
    "    print('recall = ', recall_score(y_true=y_test, y_pred=y_pred, average='macro'))\n",
    "    print(\"\\n\")\n",
    "    #print('f1 score = ', f1_score(y_true=y_test, y_pred=y_pred, average='macro'))\n",
    "    \n",
    "print(\"Average accuracy:\", acc_total / n)\n",
    "print(\"Average precision:\", prec_total / n)\n",
    "print(\"Average recall:\", recall_total / n)\n",
    "print(cm_all/n)\n",
    "sns.heatmap(cm_all/n)"
   ]
  },
  {
   "cell_type": "markdown",
   "metadata": {},
   "source": [
    "Observation:\n",
    "- Not much improvement. Lower accuracy than the GridSearch one."
   ]
  },
  {
   "cell_type": "markdown",
   "metadata": {},
   "source": [
    "### Note\n",
    "The code cannot be reported, but when the combination: n_days_crowdfunding\", \"main_category_Music\", \"main_category_Technology\", \"main_category_Theater\" was used (main_category_Music, main_category_Technology, and main_category_Theater resulting from conversion of main_category into dummy variables), an accuracy of 0.62 were yielded. The results of other experiments (combinations) are noted below.\n",
    "- 0.61: goal, currency, n_days\n",
    "- 0.61: goal, n_days\n",
    "- 0.59: goal, currency\n",
    "- 0.59: goal\n",
    "- 0.60: n_days\n",
    "- 0.62: n_days_crowdfunding\", \"main_category_Music\", \"main_category_Technology\", \"main_category_Theater\n",
    "\n",
    "\n",
    "#### Conclusion: Further dividing up each variable e.g. \"main_category_Music\", \"main_category_Technology\", \"main_category_Theater\" instead of main_category may help improve the accuracy."
   ]
  },
  {
   "cell_type": "markdown",
   "metadata": {},
   "source": [
    "Note (Missing value for the overall dataframe prior to deleting some columns)\n",
    "- Only \"name\" and \"usd pledged\" has missing values\n",
    "- Will not bother calculating the percentage for name, since 4 / 37K is obviously small\n",
    "- Since there are 37K (37,000~) instances, will drop these 4 and 3797 instances (=rows) from the dataframe if those columns are still in the dataframe"
   ]
  }
 ],
 "metadata": {
  "kernelspec": {
   "display_name": "Python 3",
   "language": "python",
   "name": "python3"
  },
  "language_info": {
   "codemirror_mode": {
    "name": "ipython",
    "version": 3
   },
   "file_extension": ".py",
   "mimetype": "text/x-python",
   "name": "python",
   "nbconvert_exporter": "python",
   "pygments_lexer": "ipython3",
   "version": "3.7.3"
  }
 },
 "nbformat": 4,
 "nbformat_minor": 2
}
